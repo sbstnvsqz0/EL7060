{
 "cells": [
  {
   "cell_type": "code",
   "execution_count": 2,
   "metadata": {},
   "outputs": [],
   "source": [
    "from src.utils.Preprocessing import Preprocessing\n",
    "from T2.src.engine.RNN import EngineRNN\n",
    "from config import FRAME_SIZE, SAMPLERATE, FRAME_SIZE, HOP, N_MELS, N_MFCC, OUT_DIM\n",
    "from CremaD import CremaDDataset\n",
    "from torch.utils.data import DataLoader"
   ]
  },
  {
   "cell_type": "markdown",
   "metadata": {},
   "source": [
    "# Entrenamiento de mejor modelo (sin augmentation)"
   ]
  },
  {
   "cell_type": "code",
   "execution_count": null,
   "metadata": {},
   "outputs": [],
   "source": [
    "preprocessing = Preprocessing(frame_size=FRAME_SIZE,\n",
    "                  hop = HOP, \n",
    "                  n_mels =N_MELS, \n",
    "                  n_fft = FRAME_SIZE, \n",
    "                  n_mfcc=N_MFCC,\n",
    "                  samplerate=SAMPLERATE)"
   ]
  },
  {
   "cell_type": "code",
   "execution_count": null,
   "metadata": {},
   "outputs": [],
   "source": [
    "%%capture\n",
    "#COMPLETAR CON HIPERPARAMS\n",
    "#model = EngineLRNN(input_size = N_MFCC+N_MELS+2,\n",
    "                         #hidden_size = args.hidden_size,\n",
    "                         #num_lstm_layers = args.num_lstm_layers,\n",
    "                         #num_mlp_layers = args.num_mlp_layers,\n",
    "                         #output_size = OUT_DIM, \n",
    "                         #dropout = args.dropout,\n",
    "                         #batch_size = args.batch_size,\n",
    "                         #learning_rate = args.learning_rate,\n",
    "                         #preprocessing = preprocessing)"
   ]
  },
  {
   "cell_type": "code",
   "execution_count": null,
   "metadata": {},
   "outputs": [],
   "source": [
    "model.train(epochs=100,patience=10,delta=0.01,augmentation=False,name=\"GRU\")"
   ]
  },
  {
   "cell_type": "markdown",
   "metadata": {},
   "source": [
    "# Se carga modelo"
   ]
  },
  {
   "cell_type": "code",
   "execution_count": null,
   "metadata": {},
   "outputs": [],
   "source": [
    "model.load_model(\"model.pth\")"
   ]
  },
  {
   "cell_type": "markdown",
   "metadata": {},
   "source": [
    "# Se evalúa modelo"
   ]
  },
  {
   "cell_type": "code",
   "execution_count": null,
   "metadata": {},
   "outputs": [],
   "source": [
    "model.evaluate(DataLoader(CremaDDataset(dir=\"test\",preprocessing = preprocessing),shuffle=False))"
   ]
  },
  {
   "cell_type": "markdown",
   "metadata": {},
   "source": [
    "# Se entrena modelo con augmentation "
   ]
  },
  {
   "cell_type": "code",
   "execution_count": null,
   "metadata": {},
   "outputs": [],
   "source": [
    "%%capture\n",
    "#COMPLETAR CON HIPERPARAMS\n",
    "#model_aug = EngineRNN(input_size = N_MFCC+N_MELS+2,\n",
    "                         #hidden_size = args.hidden_size,\n",
    "                         #num_lstm_layers = args.num_lstm_layers,\n",
    "                         #num_mlp_layers = args.num_mlp_layers,\n",
    "                         #output_size = OUT_DIM, \n",
    "                         #dropout = args.dropout,\n",
    "                         #batch_size = args.batch_size,\n",
    "                         #learning_rate = args.learning_rate,\n",
    "                         #preprocessing = preprocessing)"
   ]
  },
  {
   "cell_type": "code",
   "execution_count": null,
   "metadata": {},
   "outputs": [],
   "source": [
    "model_aug.train(epochs=100,patience=10,delta=0.01,augmentation=True,name=\"GRU_aug\")"
   ]
  },
  {
   "cell_type": "markdown",
   "metadata": {},
   "source": [
    "# Se carga modelo"
   ]
  },
  {
   "cell_type": "code",
   "execution_count": null,
   "metadata": {},
   "outputs": [],
   "source": [
    "model.load_model(\"model.pth\")"
   ]
  }
 ],
 "metadata": {
  "kernelspec": {
   "display_name": ".venv",
   "language": "python",
   "name": "python3"
  },
  "language_info": {
   "codemirror_mode": {
    "name": "ipython",
    "version": 3
   },
   "file_extension": ".py",
   "mimetype": "text/x-python",
   "name": "python",
   "nbconvert_exporter": "python",
   "pygments_lexer": "ipython3",
   "version": "3.10.11"
  }
 },
 "nbformat": 4,
 "nbformat_minor": 2
}
