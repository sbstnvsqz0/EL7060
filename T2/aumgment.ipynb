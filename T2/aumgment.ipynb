{
 "cells": [
  {
   "cell_type": "code",
   "execution_count": 1,
   "metadata": {},
   "outputs": [],
   "source": [
    "import librosa\n",
    "import numpy as np\n",
    "import soundfile as sf\n",
    "import os\n",
    "import pandas as pd\n",
    "\n",
    "def augment_audio(audio_path, output_path, augment_type='speed'):\n",
    "    y, sr = librosa.load(audio_path)\n",
    "    #tipo de aumentacion\n",
    "    # Aumentación: Cambio de velocidad\n",
    "    if augment_type == 'speed':\n",
    "        y_aug = librosa.effects.time_stretch(y, rate=np.random.uniform(0.9, 1.1))\n",
    "    \n",
    "    # Aumentación: Cambio de tono\n",
    "    elif augment_type == 'pitch':\n",
    "        y_aug = librosa.effects.pitch_shift(y, sr=sr, n_steps=np.random.randint(-2, 3))\n",
    "    # Aumentación: Cambio de tono\n",
    "    elif augment_type == 'distortion':\n",
    "        y_aug = y + 0.3 * np.sin(np.linspace(0, np.pi * 2, len(y)))\n",
    "    #se pueden agregar mas aumentaicones\n",
    "    \n",
    "    # Guardar el audio aumentado con soundfile\n",
    "    sf.write(output_path, y_aug, sr)\n",
    "\n",
    "def augment_class(csv_path, class_to_augment, augment_counts, new_folders, new_csv_path):\n",
    "\n",
    "    df = pd.read_csv(csv_path)\n",
    "    \n",
    "    # Filtrar audios de la clase que buscamos aumentar\n",
    "    class_df = df[df['class'] == class_to_augment]\n",
    "    \n",
    "    # Crear listas para almacenar las nuevas filas del CSV\n",
    "    new_rows = []\n",
    "\n",
    "    # Realizar augmentación para cada partición: train, validation, test\n",
    "    for partition, n_augments in augment_counts.items():\n",
    "        # Filtrar los audios de la partición correspondiente\n",
    "        partition_df = class_df[class_df['partition'] == partition]\n",
    "        \n",
    "        # Seleccionar los audios al azar para aumentar\n",
    "        audios_to_augment = partition_df.sample(n=n_augments)\n",
    "        \n",
    "        # Crear la carpeta si no existe\n",
    "        new_folder = new_folders[partition]\n",
    "        if not os.path.exists(new_folder):\n",
    "            os.makedirs(new_folder)\n",
    "        \n",
    "        # Para cada audio seleccionado\n",
    "        for i, row in audios_to_augment.iterrows():\n",
    "            audio_path = row['path']  # Ruta del audio original\n",
    "            augment_type = np.random.choice(['speed', 'pitch','distortion'])  # Elegir una técnica al azar XX modificar si se agregan mas aumetaciones\n",
    "            \n",
    "            # Generar un nuevo nombre para el archivo aumentado\n",
    "            new_audio_name = f\"{row['speaker_id']}_aug_{i}.wav\"\n",
    "            new_audio_path = os.path.join(new_folder, new_audio_name)\n",
    "            \n",
    "            # Aplicar augmentación\n",
    "            augment_audio(audio_path, new_audio_path, augment_type)\n",
    "            \n",
    "            # Crear una nueva fila para el CSV\n",
    "            new_row = row.copy()\n",
    "            new_row['path'] = new_audio_path\n",
    "            new_rows.append(new_row)  # Añadir la nueva fila a la lista\n",
    "    \n",
    "    # Concatenar las nuevas filas al DataFrame original\n",
    "    new_df = pd.concat([df, pd.DataFrame(new_rows)], ignore_index=True)\n",
    "    \n",
    "    # Guardar el CSV actualizado\n",
    "    new_df.to_csv(new_csv_path, index=False)\n",
    "    print(f\"Data augmentation completada. CSV actualizado en {new_csv_path}\")"
   ]
  },
  {
   "cell_type": "code",
   "execution_count": 2,
   "metadata": {},
   "outputs": [
    {
     "name": "stdout",
     "output_type": "stream",
     "text": [
      "Data augmentation completada. CSV actualizado en ./updated_csv.csv\n"
     ]
    }
   ],
   "source": [
    "csv_path = \"./labels.csv\"  # Ruta del CSV original\n",
    "new_csv_path = \"./updated_csv.csv\"  # Ruta para guardar el CSV actualizado\n",
    "\n",
    "# Definir cuántos audios aumentar para cada set\n",
    "augment_counts = {\n",
    "    'train': 12,\n",
    "    'validation': 6,\n",
    "    'test': 8\n",
    "}\n",
    "\n",
    "# Rutas para las nuevas carpetas donde se guardarán los audios aumentados\n",
    "new_folders = {\n",
    "    'train': 'new_train_folder',\n",
    "    'validation': 'new_validation_folder',\n",
    "    'test': 'new_test_folder'\n",
    "}\n",
    "\n",
    "augment_class(csv_path, class_to_augment=0, augment_counts=augment_counts, new_folders=new_folders, new_csv_path=new_csv_path)"
   ]
  },
  {
   "cell_type": "code",
   "execution_count": null,
   "metadata": {},
   "outputs": [],
   "source": []
  }
 ],
 "metadata": {
  "kernelspec": {
   "display_name": "base",
   "language": "python",
   "name": "python3"
  },
  "language_info": {
   "codemirror_mode": {
    "name": "ipython",
    "version": 3
   },
   "file_extension": ".py",
   "mimetype": "text/x-python",
   "name": "python",
   "nbconvert_exporter": "python",
   "pygments_lexer": "ipython3",
   "version": "3.12.4"
  }
 },
 "nbformat": 4,
 "nbformat_minor": 2
}
