{
 "cells": [
  {
   "cell_type": "markdown",
   "metadata": {},
   "source": [
    "# Imports"
   ]
  },
  {
   "cell_type": "code",
   "execution_count": 1,
   "metadata": {},
   "outputs": [],
   "source": [
    "import torch\n",
    "import pandas as pd\n",
    "import numpy as np\n",
    "import os\n",
    "import librosa\n",
    "import matplotlib.pyplot as plt\n",
    "import torch.nn as nn"
   ]
  },
  {
   "cell_type": "code",
   "execution_count": 2,
   "metadata": {},
   "outputs": [],
   "source": [
    "DATA_FOLDER = \"CREMA-D\"\n",
    "SAMPLERATE = 16000\n",
    "FRAME_SIZE = 1280\n",
    "HOP = 256\n",
    "N_MELS = 28\n",
    "N_FFT = 1280\n",
    "N_MFCC = 13 "
   ]
  },
  {
   "cell_type": "markdown",
   "metadata": {},
   "source": [
    "# Dataset"
   ]
  },
  {
   "cell_type": "code",
   "execution_count": 3,
   "metadata": {},
   "outputs": [],
   "source": [
    "class CremaDDataset(torch.utils.data.Dataset):\n",
    "    def __init__(self, dir, preprocessing=None):\n",
    "        assert dir in [\"train\",\"validation\",\"test\"], \"Conjunto invalido\"\n",
    "        self.dir = dir\n",
    "        self.df = (pd.read_csv(os.path.join(DATA_FOLDER, 'labels.csv'))[lambda x: x['partition'] == f\"{self.dir}\"])\n",
    "        self.preprocessing = preprocessing \n",
    "        \n",
    "    def __getitem__(self,idx):\n",
    "        signal_path = os.path.join(DATA_FOLDER,self.df.iloc[idx][\"path\"])\n",
    "        waveform,_ = librosa.load(signal_path,sr=SAMPLERATE)\n",
    "        label =  self.df.iloc[idx][\"class\"]\n",
    "        if self.preprocessing is not None:\n",
    "            not_padded_features = self.preprocessing.transform(waveform,pad=False)\n",
    "            features = self.preprocessing.transform(waveform)\n",
    "        else: \n",
    "            features = waveform\n",
    "        \n",
    "        return features,label, not_padded_features.size(0)\n",
    "    \n",
    "    def __len__(self):\n",
    "        return len(self.df)\n"
   ]
  },
  {
   "cell_type": "code",
   "execution_count": 35,
   "metadata": {},
   "outputs": [],
   "source": [
    "import torchaudio.functional as F\n",
    "import torch\n",
    "from src.utils.utils import get_MFCC, get_mel_spectrogram\n",
    "import torchaudio"
   ]
  },
  {
   "cell_type": "code",
   "execution_count": 26,
   "metadata": {},
   "outputs": [],
   "source": [
    "from torchaudio.transforms import MFCC, MelSpectrogram\n",
    "from scipy.signal import  get_window"
   ]
  },
  {
   "cell_type": "code",
   "execution_count": 82,
   "metadata": {},
   "outputs": [],
   "source": [
    "class Window:\n",
    "    def __init__(self,name,frame_size):\n",
    "        self.name = name\n",
    "        self.frame_size = frame_size\n",
    "    def __call__(self,x):\n",
    "        return x*torch.Tensor(get_window(self.name,self.frame_size))\n",
    "    \n",
    "def get_mel_spectrogram(frame_size, hop, n_mels, n_fft, samplerate,window_type=\"hamming\"):\n",
    "    mel = MelSpectrogram(\n",
    "        sample_rate=samplerate,\n",
    "        n_fft = n_fft,\n",
    "        win_length = frame_size,\n",
    "        hop_length = hop,\n",
    "        f_min = 0.0,\n",
    "        f_max = samplerate/2.0,\n",
    "        pad = 0,\n",
    "        norm=\"slaney\",\n",
    "        n_mels = n_mels,\n",
    "        window_fn = Window(window_type,frame_size),\n",
    "        mel_scale=\"htk\")\n",
    "    return mel\n",
    "\n",
    "def get_MFCC(frame_size, hop, n_mels, n_fft,n_mfcc, samplerate,window_type=\"hamming\"):\n",
    "    mfcc = MFCC(\n",
    "    sample_rate = samplerate,\n",
    "    n_mfcc = n_mfcc,\n",
    "    melkwargs={\n",
    "    \"n_fft\":n_fft,\n",
    "    \"win_length\":frame_size,\n",
    "    \"hop_length\":hop,\n",
    "    \"f_min\" : 0.0,\n",
    "    \"f_max\" : samplerate/2.0,\n",
    "    \"pad\" : 0,\n",
    "    \"norm\":\"slaney\",\n",
    "    \"n_mels\": n_mels,\n",
    "    \"window_fn\": Window(window_type,frame_size),\n",
    "    \"mel_scale\":\"htk\"}\n",
    "    )\n",
    "    return mfcc"
   ]
  },
  {
   "cell_type": "code",
   "execution_count": 101,
   "metadata": {},
   "outputs": [],
   "source": [
    "gms = get_mel_spectrogram(FRAME_SIZE, HOP, 120, N_FFT, SAMPLERATE,window_type=\"hamming\")\n",
    "gmfcc = get_MFCC(FRAME_SIZE, HOP, 120, N_FFT,N_MFCC, SAMPLERATE,window_type=\"hamming\")\n",
    "waveform,_ = librosa.load(r\"CREMA-D\\train\\1.wav\",sr=SAMPLERATE)"
   ]
  },
  {
   "cell_type": "code",
   "execution_count": 77,
   "metadata": {},
   "outputs": [],
   "source": [
    "speech_wf, sr = torchaudio.load(r\"CREMA-D\\train\\0.wav\")"
   ]
  },
  {
   "cell_type": "code",
   "execution_count": 110,
   "metadata": {},
   "outputs": [
    {
     "data": {
      "text/plain": [
       "array([0.0203125 , 0.02890625, 0.03515625, 0.0453125 , 0.04453125,\n",
       "       0.03828125, 0.0375    , 0.03828125, 0.0328125 , 0.03203125,\n",
       "       0.03515625, 0.0375    , 0.0484375 , 0.05      , 0.05      ,\n",
       "       0.04765625, 0.05078125, 0.0375    , 0.0359375 , 0.0421875 ,\n",
       "       0.059375  , 0.0515625 , 0.05078125, 0.05546875, 0.05546875,\n",
       "       0.03828125, 0.03984375, 0.040625  , 0.03984375, 0.03671875,\n",
       "       0.04296875, 0.04921875, 0.0875    , 0.1125    , 0.125     ,\n",
       "       0.13828125, 0.15      , 0.12734375, 0.11484375, 0.115625  ,\n",
       "       0.10390625, 0.0890625 , 0.0796875 , 0.0890625 , 0.11640625,\n",
       "       0.16640625, 0.196875  , 0.20546875, 0.1921875 , 0.1546875 ,\n",
       "       0.1171875 , 0.08515625, 0.0796875 , 0.09140625, 0.09765625,\n",
       "       0.0875    , 0.0921875 , 0.09140625, 0.08359375, 0.084375  ,\n",
       "       0.08515625, 0.0890625 , 0.08671875, 0.07421875, 0.06640625,\n",
       "       0.06015625, 0.0609375 , 0.09453125, 0.20390625, 0.29765625,\n",
       "       0.37265625, 0.396875  , 0.37734375, 0.28984375, 0.2140625 ,\n",
       "       0.14921875, 0.1375    , 0.13671875, 0.140625  , 0.15078125,\n",
       "       0.1703125 , 0.17890625, 0.1828125 , 0.16953125, 0.18203125,\n",
       "       0.184375  , 0.19296875, 0.19609375, 0.1984375 , 0.17578125,\n",
       "       0.17421875, 0.16484375, 0.1609375 , 0.16015625, 0.1703125 ,\n",
       "       0.14921875, 0.1484375 , 0.15      , 0.15390625, 0.12421875,\n",
       "       0.109375  , 0.07734375, 0.05234375, 0.03046875, 0.028125  ,\n",
       "       0.03515625, 0.04453125, 0.04453125, 0.0515625 , 0.05546875,\n",
       "       0.05078125, 0.0453125 , 0.04375   , 0.03828125, 0.0375    ,\n",
       "       0.0359375 , 0.0328125 , 0.0328125 , 0.034375  , 0.0328125 ,\n",
       "       0.0421875 , 0.0421875 , 0.040625  , 0.03828125, 0.04921875,\n",
       "       0.0484375 , 0.0515625 , 0.06015625, 0.06640625, 0.05234375,\n",
       "       0.04375   , 0.04375   , 0.04140625, 0.04140625, 0.046875  ,\n",
       "       0.046875  , 0.04921875, 0.05078125, 0.05234375, 0.0484375 ,\n",
       "       0.0484375 , 0.04609375, 0.0453125 , 0.04140625, 0.0390625 ,\n",
       "       0.0328125 ])"
      ]
     },
     "execution_count": 110,
     "metadata": {},
     "output_type": "execute_result"
    }
   ],
   "source": [
    "librosa.feature.zero_crossing_rate(y=waveform,frame_length=FRAME_SIZE, hop_length=HOP)[0]"
   ]
  },
  {
   "cell_type": "code",
   "execution_count": 105,
   "metadata": {},
   "outputs": [
    {
     "data": {
      "text/plain": [
       "146"
      ]
     },
     "execution_count": 105,
     "metadata": {},
     "output_type": "execute_result"
    }
   ],
   "source": [
    "len(librosa.feature.rms(y=waveform, frame_length=FRAME_SIZE, hop_length=HOP)[0])"
   ]
  },
  {
   "cell_type": "code",
   "execution_count": 78,
   "metadata": {},
   "outputs": [
    {
     "data": {
      "text/plain": [
       "16000"
      ]
     },
     "execution_count": 78,
     "metadata": {},
     "output_type": "execute_result"
    }
   ],
   "source": [
    "sr"
   ]
  },
  {
   "cell_type": "code",
   "execution_count": 46,
   "metadata": {},
   "outputs": [
    {
     "data": {
      "text/plain": [
       "tensor([[0.0000e+00, 0.0000e+00, 0.0000e+00,  ..., 6.1035e-05, 0.0000e+00,\n",
       "         0.0000e+00]])"
      ]
     },
     "execution_count": 46,
     "metadata": {},
     "output_type": "execute_result"
    }
   ],
   "source": [
    "speech_wf"
   ]
  },
  {
   "cell_type": "code",
   "execution_count": 106,
   "metadata": {},
   "outputs": [],
   "source": [
    "melspec = gms(torch.Tensor(waveform))\n",
    "mfcc = gmfcc(torch.Tensor(waveform))"
   ]
  },
  {
   "cell_type": "code",
   "execution_count": 109,
   "metadata": {},
   "outputs": [
    {
     "data": {
      "text/plain": [
       "146"
      ]
     },
     "execution_count": 109,
     "metadata": {},
     "output_type": "execute_result"
    }
   ],
   "source": [
    "len(melspec[0])"
   ]
  },
  {
   "cell_type": "code",
   "execution_count": 90,
   "metadata": {},
   "outputs": [
    {
     "data": {
      "text/plain": [
       "tensor(21229188.)"
      ]
     },
     "execution_count": 90,
     "metadata": {},
     "output_type": "execute_result"
    }
   ],
   "source": [
    "melspec.max()"
   ]
  },
  {
   "cell_type": "code",
   "execution_count": 75,
   "metadata": {},
   "outputs": [
    {
     "data": {
      "text/plain": [
       "43.088173"
      ]
     },
     "execution_count": 75,
     "metadata": {},
     "output_type": "execute_result"
    }
   ],
   "source": [
    "librosa.power_to_db(melspec[0]).max()"
   ]
  },
  {
   "cell_type": "code",
   "execution_count": 27,
   "metadata": {},
   "outputs": [],
   "source": [
    "def plot_spectrogram(specgram, title=None, ylabel=\"freq_bin\", ax=None):\n",
    "    if ax is None:\n",
    "        _, ax = plt.subplots(1, 1)\n",
    "    if title is not None:\n",
    "        ax.set_title(title)\n",
    "    ax.set_ylabel(ylabel)\n",
    "    ax.imshow(librosa.power_to_db(specgram), origin=\"lower\", aspect=\"auto\", interpolation=\"nearest\")"
   ]
  },
  {
   "cell_type": "code",
   "execution_count": 81,
   "metadata": {},
   "outputs": [
    {
     "data": {
      "image/png": "[encoded data removed]",
      "text/plain": [
       "<Figure size 640x480 with 2 Axes>"
      ]
     },
     "metadata": {},
     "output_type": "display_data"
    }
   ],
   "source": [
    "librosa.display.specshow(librosa.power_to_db(melspec),x_axis=\"time\",y_axis=\"mel\",sr=SAMPLERATE)\n",
    "plt.colorbar(format=\"%+2.f\")\n",
    "plt.show()"
   ]
  },
  {
   "cell_type": "code",
   "execution_count": 71,
   "metadata": {},
   "outputs": [
    {
     "data": {
      "image/png": "[encoded data removed]",
      "text/plain": [
       "<Figure size 640x480 with 1 Axes>"
      ]
     },
     "metadata": {},
     "output_type": "display_data"
    }
   ],
   "source": [
    "speech_wf, sr = torchaudio.load(r\"CREMA-D\\train\\0.wav\")\n",
    "melspec = gms(speech_wf)\n",
    "plot_spectrogram(melspec[0], title=\"MelSpectrogram - torchaudio\", ylabel=\"mel freq\")"
   ]
  },
  {
   "cell_type": "code",
   "execution_count": 16,
   "metadata": {},
   "outputs": [],
   "source": [
    "gms = get_mel_spectrogram(FRAME_SIZE, HOP, N_MELS, N_FFT, SAMPLERATE,window_type=\"hamming\")\n",
    "waveform,_ = librosa.load(r\"CREMA-D\\train\\0.wav\",sr=SAMPLERATE)"
   ]
  },
  {
   "cell_type": "code",
   "execution_count": 17,
   "metadata": {},
   "outputs": [
    {
     "data": {
      "text/plain": [
       "torch.Size([28, 143])"
      ]
     },
     "execution_count": 17,
     "metadata": {},
     "output_type": "execute_result"
    }
   ],
   "source": [
    "gms(torch.Tensor(waveform)).shape"
   ]
  },
  {
   "cell_type": "code",
   "execution_count": 147,
   "metadata": {},
   "outputs": [],
   "source": [
    "class Preprocessing:\n",
    "    \"\"\"\n",
    "    Salen (n_windows,n_MFCC)\n",
    "    \"\"\"\n",
    "    def __init__(self, frame_size, hop, n_mels, n_fft, n_mfcc, samplerate):\n",
    "        self.samplerate=samplerate\n",
    "        self.frame_size = frame_size\n",
    "        self.hop = hop\n",
    "        self.n_mels = n_mels\n",
    "        self.n_fft = n_fft\n",
    "        \n",
    "        self.melspec = get_mel_spectrogram(frame_size,\n",
    "                                            hop,\n",
    "                                            n_mels,\n",
    "                                            n_fft,\n",
    "                                            samplerate,\n",
    "                                            window_type=\"hamming\")\n",
    "\n",
    "        self.mfcc = get_MFCC(frame_size, \n",
    "                     hop, \n",
    "                     n_mels, \n",
    "                     n_fft,\n",
    "                     n_mfcc, \n",
    "                     samplerate)\n",
    "    \n",
    "    def transform(self,waveform,pad=True):\n",
    "        signal = torch.Tensor(waveform)\n",
    "        mfcc = self.mfcc(signal).T\n",
    "        logmelspec = torch.Tensor(librosa.power_to_db(self.melspec(signal))).T\n",
    "        zfc = torch.Tensor(librosa.feature.zero_crossing_rate(y=waveform,frame_length=self.frame_size, hop_length=self.hop)).T\n",
    "        rms = torch.Tensor(librosa.feature.rms(y=waveform,frame_length=self.frame_size, hop_length=self.hop)).T\n",
    "        features = torch.cat((mfcc,logmelspec,zfc,rms),dim=1)\n",
    "        # Padding (no se procesa)\n",
    "        if pad:\n",
    "            zeros = torch.zeros(500-features.size()[0],features.size()[1])\n",
    "                   \n",
    "            features = torch.cat((features,zeros),dim = 0)  \n",
    "        return features\n",
    "    "
   ]
  },
  {
   "cell_type": "code",
   "execution_count": 96,
   "metadata": {},
   "outputs": [],
   "source": [
    "waveform,_ = librosa.load(r\"CREMA-D\\train\\0.wav\",sr=SAMPLERATE)\n",
    "v = librosa.feature.melspectrogram(y = waveform, \n",
    "                               sr = SAMPLERATE,\n",
    "                               n_fft = N_FFT,\n",
    "                               hop_length = HOP,\n",
    "                               win_length = FRAME_SIZE,\n",
    "                               window = \"hamming\")"
   ]
  },
  {
   "cell_type": "code",
   "execution_count": 25,
   "metadata": {},
   "outputs": [
    {
     "data": {
      "text/plain": [
       "140.23486"
      ]
     },
     "execution_count": 25,
     "metadata": {},
     "output_type": "execute_result"
    }
   ],
   "source": [
    "np.max(v)"
   ]
  },
  {
   "cell_type": "code",
   "execution_count": 112,
   "metadata": {},
   "outputs": [],
   "source": [
    "p = Preprocessing(FRAME_SIZE, HOP, N_MELS, N_FFT, N_MFCC, SAMPLERATE)"
   ]
  },
  {
   "cell_type": "code",
   "execution_count": 113,
   "metadata": {},
   "outputs": [],
   "source": [
    "dataset = CremaDDataset(dir = \"train\",preprocessing = p)"
   ]
  },
  {
   "cell_type": "code",
   "execution_count": 115,
   "metadata": {},
   "outputs": [
    {
     "data": {
      "text/plain": [
       "42"
      ]
     },
     "execution_count": 115,
     "metadata": {},
     "output_type": "execute_result"
    }
   ],
   "source": [
    "len(dataset[0][0][90])"
   ]
  },
  {
   "cell_type": "code",
   "execution_count": null,
   "metadata": {},
   "outputs": [],
   "source": []
  },
  {
   "cell_type": "code",
   "execution_count": 75,
   "metadata": {},
   "outputs": [],
   "source": [
    "def get_larges(batch):\n",
    "    list_larges = [batch[0].size()[0] for x in dataset]\n",
    "    return list_larges\n"
   ]
  },
  {
   "cell_type": "code",
   "execution_count": 77,
   "metadata": {},
   "outputs": [],
   "source": [
    "larges = get_larges()"
   ]
  },
  {
   "cell_type": "code",
   "execution_count": 10,
   "metadata": {},
   "outputs": [
    {
     "data": {
      "text/plain": [
       "torch.Size([143, 13])"
      ]
     },
     "execution_count": 10,
     "metadata": {},
     "output_type": "execute_result"
    }
   ],
   "source": [
    "dataset[0][0].shape"
   ]
  },
  {
   "cell_type": "code",
   "execution_count": 34,
   "metadata": {},
   "outputs": [
    {
     "name": "stdout",
     "output_type": "stream",
     "text": [
      "{5: 879, 3: 879, 2: 879, 4: 879, 0: 752, 1: 879}\n"
     ]
    }
   ],
   "source": [
    "d = {}\n",
    "for _,label in dataset:\n",
    "    if label not in d.keys():\n",
    "        d[label] = 1\n",
    "    else:\n",
    "        d[label]+=1\n",
    "print(d)"
   ]
  },
  {
   "cell_type": "code",
   "execution_count": 61,
   "metadata": {},
   "outputs": [],
   "source": [
    "larges = []\n",
    "for signal,_ in dataset:\n",
    "    larges.append(signal.shape[0])"
   ]
  },
  {
   "cell_type": "code",
   "execution_count": 12,
   "metadata": {},
   "outputs": [
    {
     "data": {
      "text/plain": [
       "313"
      ]
     },
     "execution_count": 12,
     "metadata": {},
     "output_type": "execute_result"
    }
   ],
   "source": [
    "np.max(np.array(larges))"
   ]
  },
  {
   "cell_type": "code",
   "execution_count": 13,
   "metadata": {},
   "outputs": [
    {
     "data": {
      "text/plain": [
       "{'whiskers': [<matplotlib.lines.Line2D at 0x10ed87cc580>,\n",
       "  <matplotlib.lines.Line2D at 0x10ed87cc820>],\n",
       " 'caps': [<matplotlib.lines.Line2D at 0x10ed87ccac0>,\n",
       "  <matplotlib.lines.Line2D at 0x10ed87ccd60>],\n",
       " 'boxes': [<matplotlib.lines.Line2D at 0x10ed87cc2e0>],\n",
       " 'medians': [<matplotlib.lines.Line2D at 0x10ed87cd000>],\n",
       " 'fliers': [<matplotlib.lines.Line2D at 0x10ed87cd2a0>],\n",
       " 'means': []}"
      ]
     },
     "execution_count": 13,
     "metadata": {},
     "output_type": "execute_result"
    },
    {
     "data": {
      "image/png": "[encoded data removed]",
      "text/plain": [
       "<Figure size 640x480 with 1 Axes>"
      ]
     },
     "metadata": {},
     "output_type": "display_data"
    }
   ],
   "source": [
    "plt.boxplot(larges)"
   ]
  },
  {
   "cell_type": "markdown",
   "metadata": {},
   "source": [
    "# LSTM"
   ]
  },
  {
   "cell_type": "code",
   "execution_count": 8,
   "metadata": {},
   "outputs": [],
   "source": [
    "from torch.utils.data import DataLoader\n",
    "\n",
    "p = Preprocessing(FRAME_SIZE, HOP, N_MELS, N_FFT, N_MFCC, SAMPLERATE)\n",
    "dataset = CremaDDataset(dir=\"train\",preprocessing=p)\n",
    "dataloader = DataLoader(dataset,batch_size=64, shuffle=True)"
   ]
  },
  {
   "cell_type": "code",
   "execution_count": 9,
   "metadata": {},
   "outputs": [],
   "source": [
    "\n",
    "import torch.nn.utils.rnn as rnn_utils\n",
    "class HiddenLayer(nn.Module):\n",
    "    \"\"\"\n",
    "    inputs:\n",
    "    - hidden_dim: dimensión de entrada y salida de la capa.\n",
    "    - dropout: probabilidad de dropout\n",
    "\n",
    "    output: modulo con capas Linear, ReLU y Dropout.\n",
    "    \"\"\"\n",
    "    def __init__(self, input_dim, output_dim, dropout):\n",
    "        super(HiddenLayer, self).__init__()\n",
    "        self.layer = nn.Linear(input_dim, output_dim)\n",
    "        self.activation = nn.Tanh()\n",
    "        self.dropout = nn.Dropout(dropout)\n",
    "\n",
    "    def forward(self,x):\n",
    "        x0 = self.layer(x)\n",
    "        x1 = self.activation(x0)\n",
    "        out = self.dropout(x1)\n",
    "        return out\n",
    "    \n",
    "class CustomMLP(nn.Module):\n",
    "    def __init__(self,input_dim,output_dim,n_layers,dropout):\n",
    "        super().__init__()\n",
    "        hidden_dims = [input_dim//(2**k) for k in range(1,n_layers)]\n",
    "        self.first = nn.Linear(input_dim,hidden_dims[0])\n",
    "        self.hidden = nn.ModuleList([HiddenLayer(hidden_dims[k],hidden_dims[k+1],dropout) for k in range(len(hidden_dims)-1)]) #Cadena de capas ocultas\n",
    "        self.out = nn.Linear(hidden_dims[-1],output_dim)\n",
    "        self.softmax = nn.Softmax(dim=1)\n",
    "    def forward(self,x):\n",
    "        x = self.first(x)\n",
    "        for layer in self.hidden:\n",
    "            x = layer(x)\n",
    "        x = self.out(x)\n",
    "        x = self.softmax(x)\n",
    "\n",
    "        return x\n",
    "\n",
    "\n",
    "class CustomLSTM(nn.Module):\n",
    "    def __init__(self, input_size,hidden_size, num_lstm_layers,num_mlp_layers, output_size, dropout):\n",
    "        super().__init__()\n",
    "\n",
    "        # capa recurrente\n",
    "        self.input_size = input_size\n",
    "        self.lstm = torch.nn.LSTM(input_size=self.input_size, \n",
    "                                  hidden_size=hidden_size, \n",
    "                                  num_layers=num_lstm_layers, \n",
    "                                  batch_first=True,\n",
    "                                  dropout = dropout)\n",
    "\n",
    "        # capa fully conected\n",
    "        self.fc = CustomMLP(input_dim = hidden_size,\n",
    "                            output_dim = output_size,\n",
    "                            n_layers = num_mlp_layers,\n",
    "                            dropout = dropout)\n",
    "        \n",
    "    def forward(self, x, lengths):\n",
    "        \n",
    "        packed_input = rnn_utils.pack_padded_sequence(x,lengths,batch_first=True,enforce_sorted=False)\n",
    "        packed_output, _ = self.lstm(packed_input)\n",
    "        output, _ = rnn_utils.pad_packed_sequence(packed_output,batch_first=True)\n",
    "        valid_output = self.get_last_valid_output(output,lengths)\n",
    "        mlp_output = self.fc(valid_output)\n",
    "        return mlp_output\n",
    "    \n",
    "    def get_last_valid_output(self,output,lengths):\n",
    "        batch_size = output.size(0)\n",
    "        last_valid_output = []\n",
    "        for i in range(batch_size):\n",
    "            l = lengths[i]\n",
    "            last_valid_output.append(output[i,l-1,:])\n",
    "        return torch.stack(last_valid_output)\n",
    "    \n",
    "    "
   ]
  },
  {
   "cell_type": "code",
   "execution_count": 304,
   "metadata": {},
   "outputs": [],
   "source": [
    "model = CustomLSTM(input_size = N_MFCC,\n",
    "                   hidden_size = 128,\n",
    "                   num_lstm_layers = 2,\n",
    "                   num_mlp_layers = 3,\n",
    "                   output_size = 6, \n",
    "                   dropout=0.2)"
   ]
  },
  {
   "cell_type": "code",
   "execution_count": 235,
   "metadata": {},
   "outputs": [],
   "source": [
    "import numpy as np\n",
    "import torch\n",
    "import torch.nn as nn\n",
    "from torch.utils.data import DataLoader\n",
    "from tqdm import tqdm\n",
    "from torch.optim import SGD, Adam\n",
    "from torch.optim.lr_scheduler import StepLR, CyclicLR\n",
    "from sklearn.metrics import confusion_matrix\n",
    "import seaborn as sns\n",
    "import matplotlib.pyplot as plt\n",
    "SEED=30\n",
    "DEVICE = torch.device(\"cuda\" if torch.cuda.is_available() else \"cpu\")"
   ]
  },
  {
   "cell_type": "code",
   "execution_count": 306,
   "metadata": {},
   "outputs": [],
   "source": [
    "class EngineLSTM:\n",
    "    def __init__(self,input_size,hidden_size,num_lstm_layers,num_mlp_layers, output_size, dropout,batch_size,learning_rate,preprocessing):\n",
    "        torch.manual_seed(SEED)\n",
    "        self.model = CustomLSTM(input_size = input_size,\n",
    "                                hidden_size = hidden_size,\n",
    "                                num_lstm_layers = num_lstm_layers,\n",
    "                                num_mlp_layers = num_mlp_layers,\n",
    "                                output_size = output_size, \n",
    "                                dropout=dropout).to(DEVICE)\n",
    "        self.batch_size = batch_size\n",
    "        #self.optimizer = SGD(self.model.parameters(),lr=learning_rate,momentum=0.9) \n",
    "        self.preprocessing = preprocessing\n",
    "        self.optimizer = Adam(self.model.parameters(),lr=learning_rate)\n",
    "        #self.scheduler = CyclicLR(self.optimizer,base_lr=0.1*learning_rate,max_lr=learning_rate,step_size_up=1000)\n",
    "        self.criterion = nn.CrossEntropyLoss()\n",
    "        self.train_losses = []\n",
    "        self.val_losses = []\n",
    "        self.best_val_loss = np.inf\n",
    "        self.acc = 0\n",
    "        self.best_acc = 0\n",
    "        \n",
    "    def train(self,epochs,patience,delta,save_model=True):\n",
    "        dataloader = DataLoader(CremaDDataset(\"train\",self.preprocessing),batch_size=self.batch_size,shuffle=True)\n",
    "        dataloader_eval = DataLoader(CremaDDataset(\"validation\",self.preprocessing),shuffle=False)\n",
    "        p = 0\n",
    "        status = 0\n",
    "        for epoch in range(epochs):\n",
    "            self.model.train()\n",
    "            train_loss = 0\n",
    "            val_loss = 0\n",
    "            acc = 0 \n",
    "            with tqdm(total=len(dataloader),desc=f'Epoca {epoch}/{epochs}',unit=\"batch\") as pbar:\n",
    "                for batch in dataloader:\n",
    "                    self.optimizer.zero_grad()\n",
    "                    input,label,lengths = batch[0].float().to(DEVICE),batch[1].type(torch.uint8).to(DEVICE), batch[2]\n",
    "                    \n",
    "                    pred = self.model(input,lengths)\n",
    "                    label_pred = torch.argmax(pred,dim=1)\n",
    "\n",
    "                    \n",
    "                    t_loss = self.criterion(pred,label)\n",
    "                    train_loss +=t_loss.item()  #Acumulo losses por época\n",
    "                    t_loss.backward()   #Propago loss en cada batch\n",
    "\n",
    "                    self.optimizer.step()   #Step en cada batch\n",
    "                    #self.scheduler.step()\n",
    "                    pbar.update(1)\n",
    "            train_loss = train_loss/len(dataloader)\n",
    "            self.train_losses.append(train_loss)\n",
    "\n",
    "            self.model.eval()\n",
    "            with torch.no_grad():\n",
    "                for batch in tqdm(dataloader_eval, total=len(dataloader_eval),desc=\"Validación\"):\n",
    "                    input,label,lengths = batch[0].float().to(DEVICE),batch[1].type(torch.uint8).to(DEVICE), batch[2]\n",
    "                    pred = self.model(input,lengths)\n",
    "                    label_pred = torch.argmax(pred,dim=1)\n",
    "\n",
    "                    val_loss += self.criterion(pred,label).item()\n",
    "                    acc += (label_pred==label).sum()\n",
    "                \n",
    "                val_loss = val_loss/len(dataloader_eval)\n",
    "                acc = acc/len(dataloader_eval)\n",
    "                self.acc = acc\n",
    "            \n",
    "            \n",
    "            self.val_losses.append(val_loss)\n",
    "\n",
    "            print(\"Epoca: {}, \\tTrain_loss: {:.4f}, \\tVal loss: {:.4f}, \\tAcc: {:.4f}\".format(epoch,train_loss,val_loss,acc))\n",
    "            if acc > self.best_acc:\n",
    "                self.best_acc = acc\n",
    "                if save_model:\n",
    "                    self.save_model()\n",
    "            if val_loss+delta<self.best_val_loss:\n",
    "                self.best_val_loss = val_loss\n",
    "                self.acc = acc\n",
    "                p = 0\n",
    "            else:\n",
    "                p+=1\n",
    "            \n",
    "            if p==patience:\n",
    "                self.train_losses = self.train_losses[:-patience]\n",
    "                self.val_losses = self.val_losses[:-patience]\n",
    "                status = 1\n",
    "                print(\"Patience alcanzada, terminando entrenamiento\")\n",
    "                break\n",
    "        if status == 0:\n",
    "            print(\"El entrenamiento ha concluido dado que se llegó a las épocas\")\n",
    "\n",
    "    def evaluate(self,dataloader):\n",
    "        self.model.eval()\n",
    "        acc = 0\n",
    "        real_labels = []\n",
    "        pred_labels = []\n",
    "        with torch.no_grad():\n",
    "            for batch in tqdm(dataloader, total=len(dataloader),desc=\"Evaluación\"):\n",
    "                input,label = batch[0].float().to(DEVICE),batch[1].type(torch.uint8).to(DEVICE)\n",
    "                \n",
    "                pred = self.model(input)\n",
    "                label_pred = torch.argmax(pred,dim=1)\n",
    "                real_labels.append(label.cpu())\n",
    "                pred_labels.append(label_pred.cpu())\n",
    "                acc += (label_pred==label).sum()\n",
    "            acc = acc/len(dataloader)\n",
    "            conf_matrix = confusion_matrix(y_true = real_labels,\n",
    "                                             y_pred = pred_labels,\n",
    "                                             normalize='true')\n",
    "            sns.heatmap(conf_matrix,annot=True,cmap=\"summer\")\n",
    "            plt.xlabel(\"Valores predichos\")\n",
    "            plt.ylabel(\"Valores reales\")\n",
    "            plt.show()\n",
    "            print(f\"Accuracy: {acc}\")\n",
    "        \n",
    "    def save_model(self):\n",
    "        torch.save(self.model.state_dict(), \"model.pth\")\n",
    "\n",
    "    def load_model(self,path):\n",
    "        self.model.load_state_dict(torch.load(path))\n",
    "\n",
    "    def return_losses(self):\n",
    "        return [self.train_losses, self.val_losses]\n",
    "    \n",
    "    def return_acc(self):\n",
    "        return self.acc"
   ]
  },
  {
   "cell_type": "code",
   "execution_count": 307,
   "metadata": {},
   "outputs": [
    {
     "ename": "TypeError",
     "evalue": "EngineLSTM.__init__() got an unexpected keyword argument 'input_dim'",
     "output_type": "error",
     "traceback": [
      "\u001b[1;31m---------------------------------------------------------------------------\u001b[0m",
      "\u001b[1;31mTypeError\u001b[0m                                 Traceback (most recent call last)",
      "Cell \u001b[1;32mIn[307], line 1\u001b[0m\n\u001b[1;32m----> 1\u001b[0m e \u001b[38;5;241m=\u001b[39m \u001b[43mEngineLSTM\u001b[49m\u001b[43m(\u001b[49m\u001b[43minput_dim\u001b[49m\u001b[38;5;241;43m=\u001b[39;49m\u001b[43mN_MFCC\u001b[49m\u001b[43m,\u001b[49m\u001b[43mhidden_dim\u001b[49m\u001b[38;5;241;43m=\u001b[39;49m\u001b[38;5;241;43m128\u001b[39;49m\u001b[43m,\u001b[49m\u001b[43mnum_layers\u001b[49m\u001b[38;5;241;43m=\u001b[39;49m\u001b[38;5;241;43m2\u001b[39;49m\u001b[43m,\u001b[49m\u001b[43mD_out\u001b[49m\u001b[38;5;241;43m=\u001b[39;49m\u001b[38;5;241;43m6\u001b[39;49m\u001b[43m,\u001b[49m\u001b[43mbatch_size\u001b[49m\u001b[38;5;241;43m=\u001b[39;49m\u001b[38;5;241;43m64\u001b[39;49m\u001b[43m,\u001b[49m\u001b[43mlearning_rate\u001b[49m\u001b[38;5;241;43m=\u001b[39;49m\u001b[38;5;241;43m0.01\u001b[39;49m\u001b[43m,\u001b[49m\u001b[43mpreprocessing\u001b[49m\u001b[38;5;241;43m=\u001b[39;49m\u001b[43mp\u001b[49m\u001b[43m)\u001b[49m\n",
      "\u001b[1;31mTypeError\u001b[0m: EngineLSTM.__init__() got an unexpected keyword argument 'input_dim'"
     ]
    }
   ],
   "source": [
    "e = EngineLSTM(input_dim=N_MFCC,hidden_dim=128,num_layers=2,D_out=6,batch_size=64,learning_rate=0.01,preprocessing=p)"
   ]
  },
  {
   "cell_type": "code",
   "execution_count": 308,
   "metadata": {},
   "outputs": [],
   "source": [
    "e = EngineLSTM(input_size = N_MFCC,\n",
    "               hidden_size = 128,\n",
    "               num_lstm_layers = 2,\n",
    "               num_mlp_layers = 3, \n",
    "               output_size = 6, \n",
    "               dropout = 0.2,\n",
    "               batch_size = 64,\n",
    "               learning_rate = 0.001,\n",
    "               preprocessing = p)"
   ]
  },
  {
   "cell_type": "code",
   "execution_count": 311,
   "metadata": {},
   "outputs": [
    {
     "name": "stderr",
     "output_type": "stream",
     "text": [
      "Epoca 0/100: 100%|██████████| 81/81 [00:46<00:00,  1.73batch/s]\n",
      "Validación: 100%|██████████| 1475/1475 [00:32<00:00, 45.14it/s]\n"
     ]
    },
    {
     "name": "stdout",
     "output_type": "stream",
     "text": [
      "Epoca: 0, \tTrain_loss: 1.6185, \tVal loss: 1.6180, \tAcc: 0.4115\n"
     ]
    },
    {
     "name": "stderr",
     "output_type": "stream",
     "text": [
      "Epoca 1/100: 100%|██████████| 81/81 [00:48<00:00,  1.67batch/s]\n",
      "Validación: 100%|██████████| 1475/1475 [00:27<00:00, 53.21it/s]\n"
     ]
    },
    {
     "name": "stdout",
     "output_type": "stream",
     "text": [
      "Epoca: 1, \tTrain_loss: 1.6326, \tVal loss: 1.6154, \tAcc: 0.4102\n"
     ]
    },
    {
     "name": "stderr",
     "output_type": "stream",
     "text": [
      "Epoca 2/100: 100%|██████████| 81/81 [00:40<00:00,  2.00batch/s]\n",
      "Validación: 100%|██████████| 1475/1475 [00:29<00:00, 49.32it/s]\n"
     ]
    },
    {
     "name": "stdout",
     "output_type": "stream",
     "text": [
      "Epoca: 2, \tTrain_loss: 1.6431, \tVal loss: 1.6380, \tAcc: 0.3993\n"
     ]
    },
    {
     "name": "stderr",
     "output_type": "stream",
     "text": [
      "Epoca 3/100: 100%|██████████| 81/81 [00:41<00:00,  1.95batch/s]\n",
      "Validación: 100%|██████████| 1475/1475 [00:28<00:00, 51.50it/s]\n"
     ]
    },
    {
     "name": "stdout",
     "output_type": "stream",
     "text": [
      "Epoca: 3, \tTrain_loss: 1.6260, \tVal loss: 1.6108, \tAcc: 0.4210\n"
     ]
    },
    {
     "name": "stderr",
     "output_type": "stream",
     "text": [
      "Epoca 4/100:  31%|███       | 25/81 [00:12<00:28,  1.96batch/s]\n"
     ]
    },
    {
     "ename": "KeyboardInterrupt",
     "evalue": "",
     "output_type": "error",
     "traceback": [
      "\u001b[1;31m---------------------------------------------------------------------------\u001b[0m",
      "\u001b[1;31mKeyboardInterrupt\u001b[0m                         Traceback (most recent call last)",
      "Cell \u001b[1;32mIn[311], line 1\u001b[0m\n\u001b[1;32m----> 1\u001b[0m \u001b[43me\u001b[49m\u001b[38;5;241;43m.\u001b[39;49m\u001b[43mtrain\u001b[49m\u001b[43m(\u001b[49m\u001b[43mepochs\u001b[49m\u001b[38;5;241;43m=\u001b[39;49m\u001b[38;5;241;43m100\u001b[39;49m\u001b[43m,\u001b[49m\u001b[43mpatience\u001b[49m\u001b[38;5;241;43m=\u001b[39;49m\u001b[38;5;241;43m15\u001b[39;49m\u001b[43m,\u001b[49m\u001b[43mdelta\u001b[49m\u001b[38;5;241;43m=\u001b[39;49m\u001b[38;5;241;43m0.01\u001b[39;49m\u001b[43m)\u001b[49m\n",
      "Cell \u001b[1;32mIn[306], line 33\u001b[0m, in \u001b[0;36mEngineLSTM.train\u001b[1;34m(self, epochs, patience, delta, save_model)\u001b[0m\n\u001b[0;32m     31\u001b[0m acc \u001b[38;5;241m=\u001b[39m \u001b[38;5;241m0\u001b[39m \n\u001b[0;32m     32\u001b[0m \u001b[38;5;28;01mwith\u001b[39;00m tqdm(total\u001b[38;5;241m=\u001b[39m\u001b[38;5;28mlen\u001b[39m(dataloader),desc\u001b[38;5;241m=\u001b[39m\u001b[38;5;124mf\u001b[39m\u001b[38;5;124m'\u001b[39m\u001b[38;5;124mEpoca \u001b[39m\u001b[38;5;132;01m{\u001b[39;00mepoch\u001b[38;5;132;01m}\u001b[39;00m\u001b[38;5;124m/\u001b[39m\u001b[38;5;132;01m{\u001b[39;00mepochs\u001b[38;5;132;01m}\u001b[39;00m\u001b[38;5;124m'\u001b[39m,unit\u001b[38;5;241m=\u001b[39m\u001b[38;5;124m\"\u001b[39m\u001b[38;5;124mbatch\u001b[39m\u001b[38;5;124m\"\u001b[39m) \u001b[38;5;28;01mas\u001b[39;00m pbar:\n\u001b[1;32m---> 33\u001b[0m     \u001b[38;5;28;01mfor\u001b[39;00m batch \u001b[38;5;129;01min\u001b[39;00m dataloader:\n\u001b[0;32m     34\u001b[0m         \u001b[38;5;28mself\u001b[39m\u001b[38;5;241m.\u001b[39moptimizer\u001b[38;5;241m.\u001b[39mzero_grad()\n\u001b[0;32m     35\u001b[0m         \u001b[38;5;28minput\u001b[39m,label,lengths \u001b[38;5;241m=\u001b[39m batch[\u001b[38;5;241m0\u001b[39m]\u001b[38;5;241m.\u001b[39mfloat()\u001b[38;5;241m.\u001b[39mto(DEVICE),batch[\u001b[38;5;241m1\u001b[39m]\u001b[38;5;241m.\u001b[39mtype(torch\u001b[38;5;241m.\u001b[39muint8)\u001b[38;5;241m.\u001b[39mto(DEVICE), batch[\u001b[38;5;241m2\u001b[39m]\n",
      "File \u001b[1;32mc:\\Users\\sebas\\Desktop\\DL_señales\\.venv\\lib\\site-packages\\torch\\utils\\data\\dataloader.py:630\u001b[0m, in \u001b[0;36m_BaseDataLoaderIter.__next__\u001b[1;34m(self)\u001b[0m\n\u001b[0;32m    627\u001b[0m \u001b[38;5;28;01mif\u001b[39;00m \u001b[38;5;28mself\u001b[39m\u001b[38;5;241m.\u001b[39m_sampler_iter \u001b[38;5;129;01mis\u001b[39;00m \u001b[38;5;28;01mNone\u001b[39;00m:\n\u001b[0;32m    628\u001b[0m     \u001b[38;5;66;03m# TODO(https://github.com/pytorch/pytorch/issues/76750)\u001b[39;00m\n\u001b[0;32m    629\u001b[0m     \u001b[38;5;28mself\u001b[39m\u001b[38;5;241m.\u001b[39m_reset()  \u001b[38;5;66;03m# type: ignore[call-arg]\u001b[39;00m\n\u001b[1;32m--> 630\u001b[0m data \u001b[38;5;241m=\u001b[39m \u001b[38;5;28;43mself\u001b[39;49m\u001b[38;5;241;43m.\u001b[39;49m\u001b[43m_next_data\u001b[49m\u001b[43m(\u001b[49m\u001b[43m)\u001b[49m\n\u001b[0;32m    631\u001b[0m \u001b[38;5;28mself\u001b[39m\u001b[38;5;241m.\u001b[39m_num_yielded \u001b[38;5;241m+\u001b[39m\u001b[38;5;241m=\u001b[39m \u001b[38;5;241m1\u001b[39m\n\u001b[0;32m    632\u001b[0m \u001b[38;5;28;01mif\u001b[39;00m \u001b[38;5;28mself\u001b[39m\u001b[38;5;241m.\u001b[39m_dataset_kind \u001b[38;5;241m==\u001b[39m _DatasetKind\u001b[38;5;241m.\u001b[39mIterable \u001b[38;5;129;01mand\u001b[39;00m \\\n\u001b[0;32m    633\u001b[0m         \u001b[38;5;28mself\u001b[39m\u001b[38;5;241m.\u001b[39m_IterableDataset_len_called \u001b[38;5;129;01mis\u001b[39;00m \u001b[38;5;129;01mnot\u001b[39;00m \u001b[38;5;28;01mNone\u001b[39;00m \u001b[38;5;129;01mand\u001b[39;00m \\\n\u001b[0;32m    634\u001b[0m         \u001b[38;5;28mself\u001b[39m\u001b[38;5;241m.\u001b[39m_num_yielded \u001b[38;5;241m>\u001b[39m \u001b[38;5;28mself\u001b[39m\u001b[38;5;241m.\u001b[39m_IterableDataset_len_called:\n",
      "File \u001b[1;32mc:\\Users\\sebas\\Desktop\\DL_señales\\.venv\\lib\\site-packages\\torch\\utils\\data\\dataloader.py:673\u001b[0m, in \u001b[0;36m_SingleProcessDataLoaderIter._next_data\u001b[1;34m(self)\u001b[0m\n\u001b[0;32m    671\u001b[0m \u001b[38;5;28;01mdef\u001b[39;00m \u001b[38;5;21m_next_data\u001b[39m(\u001b[38;5;28mself\u001b[39m):\n\u001b[0;32m    672\u001b[0m     index \u001b[38;5;241m=\u001b[39m \u001b[38;5;28mself\u001b[39m\u001b[38;5;241m.\u001b[39m_next_index()  \u001b[38;5;66;03m# may raise StopIteration\u001b[39;00m\n\u001b[1;32m--> 673\u001b[0m     data \u001b[38;5;241m=\u001b[39m \u001b[38;5;28;43mself\u001b[39;49m\u001b[38;5;241;43m.\u001b[39;49m\u001b[43m_dataset_fetcher\u001b[49m\u001b[38;5;241;43m.\u001b[39;49m\u001b[43mfetch\u001b[49m\u001b[43m(\u001b[49m\u001b[43mindex\u001b[49m\u001b[43m)\u001b[49m  \u001b[38;5;66;03m# may raise StopIteration\u001b[39;00m\n\u001b[0;32m    674\u001b[0m     \u001b[38;5;28;01mif\u001b[39;00m \u001b[38;5;28mself\u001b[39m\u001b[38;5;241m.\u001b[39m_pin_memory:\n\u001b[0;32m    675\u001b[0m         data \u001b[38;5;241m=\u001b[39m _utils\u001b[38;5;241m.\u001b[39mpin_memory\u001b[38;5;241m.\u001b[39mpin_memory(data, \u001b[38;5;28mself\u001b[39m\u001b[38;5;241m.\u001b[39m_pin_memory_device)\n",
      "File \u001b[1;32mc:\\Users\\sebas\\Desktop\\DL_señales\\.venv\\lib\\site-packages\\torch\\utils\\data\\_utils\\fetch.py:52\u001b[0m, in \u001b[0;36m_MapDatasetFetcher.fetch\u001b[1;34m(self, possibly_batched_index)\u001b[0m\n\u001b[0;32m     50\u001b[0m         data \u001b[38;5;241m=\u001b[39m \u001b[38;5;28mself\u001b[39m\u001b[38;5;241m.\u001b[39mdataset\u001b[38;5;241m.\u001b[39m__getitems__(possibly_batched_index)\n\u001b[0;32m     51\u001b[0m     \u001b[38;5;28;01melse\u001b[39;00m:\n\u001b[1;32m---> 52\u001b[0m         data \u001b[38;5;241m=\u001b[39m [\u001b[38;5;28mself\u001b[39m\u001b[38;5;241m.\u001b[39mdataset[idx] \u001b[38;5;28;01mfor\u001b[39;00m idx \u001b[38;5;129;01min\u001b[39;00m possibly_batched_index]\n\u001b[0;32m     53\u001b[0m \u001b[38;5;28;01melse\u001b[39;00m:\n\u001b[0;32m     54\u001b[0m     data \u001b[38;5;241m=\u001b[39m \u001b[38;5;28mself\u001b[39m\u001b[38;5;241m.\u001b[39mdataset[possibly_batched_index]\n",
      "File \u001b[1;32mc:\\Users\\sebas\\Desktop\\DL_señales\\.venv\\lib\\site-packages\\torch\\utils\\data\\_utils\\fetch.py:52\u001b[0m, in \u001b[0;36m<listcomp>\u001b[1;34m(.0)\u001b[0m\n\u001b[0;32m     50\u001b[0m         data \u001b[38;5;241m=\u001b[39m \u001b[38;5;28mself\u001b[39m\u001b[38;5;241m.\u001b[39mdataset\u001b[38;5;241m.\u001b[39m__getitems__(possibly_batched_index)\n\u001b[0;32m     51\u001b[0m     \u001b[38;5;28;01melse\u001b[39;00m:\n\u001b[1;32m---> 52\u001b[0m         data \u001b[38;5;241m=\u001b[39m [\u001b[38;5;28;43mself\u001b[39;49m\u001b[38;5;241;43m.\u001b[39;49m\u001b[43mdataset\u001b[49m\u001b[43m[\u001b[49m\u001b[43midx\u001b[49m\u001b[43m]\u001b[49m \u001b[38;5;28;01mfor\u001b[39;00m idx \u001b[38;5;129;01min\u001b[39;00m possibly_batched_index]\n\u001b[0;32m     53\u001b[0m \u001b[38;5;28;01melse\u001b[39;00m:\n\u001b[0;32m     54\u001b[0m     data \u001b[38;5;241m=\u001b[39m \u001b[38;5;28mself\u001b[39m\u001b[38;5;241m.\u001b[39mdataset[possibly_batched_index]\n",
      "Cell \u001b[1;32mIn[278], line 13\u001b[0m, in \u001b[0;36mCremaDDataset.__getitem__\u001b[1;34m(self, idx)\u001b[0m\n\u001b[0;32m     11\u001b[0m label \u001b[38;5;241m=\u001b[39m  \u001b[38;5;28mself\u001b[39m\u001b[38;5;241m.\u001b[39mdf\u001b[38;5;241m.\u001b[39miloc[idx][\u001b[38;5;124m\"\u001b[39m\u001b[38;5;124mclass\u001b[39m\u001b[38;5;124m\"\u001b[39m]\n\u001b[0;32m     12\u001b[0m \u001b[38;5;28;01mif\u001b[39;00m \u001b[38;5;28mself\u001b[39m\u001b[38;5;241m.\u001b[39mpreprocessing \u001b[38;5;129;01mis\u001b[39;00m \u001b[38;5;129;01mnot\u001b[39;00m \u001b[38;5;28;01mNone\u001b[39;00m:\n\u001b[1;32m---> 13\u001b[0m     not_padded_features \u001b[38;5;241m=\u001b[39m \u001b[38;5;28;43mself\u001b[39;49m\u001b[38;5;241;43m.\u001b[39;49m\u001b[43mpreprocessing\u001b[49m\u001b[38;5;241;43m.\u001b[39;49m\u001b[43mtransform\u001b[49m\u001b[43m(\u001b[49m\u001b[43mwaveform\u001b[49m\u001b[43m,\u001b[49m\u001b[43mpad\u001b[49m\u001b[38;5;241;43m=\u001b[39;49m\u001b[38;5;28;43;01mFalse\u001b[39;49;00m\u001b[43m)\u001b[49m\n\u001b[0;32m     14\u001b[0m     features \u001b[38;5;241m=\u001b[39m \u001b[38;5;28mself\u001b[39m\u001b[38;5;241m.\u001b[39mpreprocessing\u001b[38;5;241m.\u001b[39mtransform(waveform)\n\u001b[0;32m     15\u001b[0m \u001b[38;5;28;01melse\u001b[39;00m: \n",
      "Cell \u001b[1;32mIn[279], line 22\u001b[0m, in \u001b[0;36mPreprocessing.transform\u001b[1;34m(self, waveform, pad)\u001b[0m\n\u001b[0;32m     20\u001b[0m \u001b[38;5;28;01mdef\u001b[39;00m \u001b[38;5;21mtransform\u001b[39m(\u001b[38;5;28mself\u001b[39m,waveform,pad\u001b[38;5;241m=\u001b[39m\u001b[38;5;28;01mTrue\u001b[39;00m):\n\u001b[0;32m     21\u001b[0m     signal \u001b[38;5;241m=\u001b[39m torch\u001b[38;5;241m.\u001b[39mTensor(waveform)\n\u001b[1;32m---> 22\u001b[0m     features \u001b[38;5;241m=\u001b[39m \u001b[38;5;28;43mself\u001b[39;49m\u001b[38;5;241;43m.\u001b[39;49m\u001b[43mmfcc\u001b[49m\u001b[43m(\u001b[49m\u001b[43msignal\u001b[49m\u001b[43m)\u001b[49m\u001b[38;5;241m.\u001b[39mT\n\u001b[0;32m     23\u001b[0m     \u001b[38;5;66;03m# Padding (no se procesa)\u001b[39;00m\n\u001b[0;32m     24\u001b[0m     \u001b[38;5;28;01mif\u001b[39;00m pad:\n",
      "File \u001b[1;32mc:\\Users\\sebas\\Desktop\\DL_señales\\.venv\\lib\\site-packages\\torch\\nn\\modules\\module.py:1553\u001b[0m, in \u001b[0;36mModule._wrapped_call_impl\u001b[1;34m(self, *args, **kwargs)\u001b[0m\n\u001b[0;32m   1551\u001b[0m     \u001b[38;5;28;01mreturn\u001b[39;00m \u001b[38;5;28mself\u001b[39m\u001b[38;5;241m.\u001b[39m_compiled_call_impl(\u001b[38;5;241m*\u001b[39margs, \u001b[38;5;241m*\u001b[39m\u001b[38;5;241m*\u001b[39mkwargs)  \u001b[38;5;66;03m# type: ignore[misc]\u001b[39;00m\n\u001b[0;32m   1552\u001b[0m \u001b[38;5;28;01melse\u001b[39;00m:\n\u001b[1;32m-> 1553\u001b[0m     \u001b[38;5;28;01mreturn\u001b[39;00m \u001b[38;5;28mself\u001b[39m\u001b[38;5;241m.\u001b[39m_call_impl(\u001b[38;5;241m*\u001b[39margs, \u001b[38;5;241m*\u001b[39m\u001b[38;5;241m*\u001b[39mkwargs)\n",
      "File \u001b[1;32mc:\\Users\\sebas\\Desktop\\DL_señales\\.venv\\lib\\site-packages\\torch\\nn\\modules\\module.py:1562\u001b[0m, in \u001b[0;36mModule._call_impl\u001b[1;34m(self, *args, **kwargs)\u001b[0m\n\u001b[0;32m   1557\u001b[0m \u001b[38;5;66;03m# If we don't have any hooks, we want to skip the rest of the logic in\u001b[39;00m\n\u001b[0;32m   1558\u001b[0m \u001b[38;5;66;03m# this function, and just call forward.\u001b[39;00m\n\u001b[0;32m   1559\u001b[0m \u001b[38;5;28;01mif\u001b[39;00m \u001b[38;5;129;01mnot\u001b[39;00m (\u001b[38;5;28mself\u001b[39m\u001b[38;5;241m.\u001b[39m_backward_hooks \u001b[38;5;129;01mor\u001b[39;00m \u001b[38;5;28mself\u001b[39m\u001b[38;5;241m.\u001b[39m_backward_pre_hooks \u001b[38;5;129;01mor\u001b[39;00m \u001b[38;5;28mself\u001b[39m\u001b[38;5;241m.\u001b[39m_forward_hooks \u001b[38;5;129;01mor\u001b[39;00m \u001b[38;5;28mself\u001b[39m\u001b[38;5;241m.\u001b[39m_forward_pre_hooks\n\u001b[0;32m   1560\u001b[0m         \u001b[38;5;129;01mor\u001b[39;00m _global_backward_pre_hooks \u001b[38;5;129;01mor\u001b[39;00m _global_backward_hooks\n\u001b[0;32m   1561\u001b[0m         \u001b[38;5;129;01mor\u001b[39;00m _global_forward_hooks \u001b[38;5;129;01mor\u001b[39;00m _global_forward_pre_hooks):\n\u001b[1;32m-> 1562\u001b[0m     \u001b[38;5;28;01mreturn\u001b[39;00m forward_call(\u001b[38;5;241m*\u001b[39margs, \u001b[38;5;241m*\u001b[39m\u001b[38;5;241m*\u001b[39mkwargs)\n\u001b[0;32m   1564\u001b[0m \u001b[38;5;28;01mtry\u001b[39;00m:\n\u001b[0;32m   1565\u001b[0m     result \u001b[38;5;241m=\u001b[39m \u001b[38;5;28;01mNone\u001b[39;00m\n",
      "File \u001b[1;32mc:\\Users\\sebas\\Desktop\\DL_señales\\.venv\\lib\\site-packages\\torchaudio\\transforms\\_transforms.py:699\u001b[0m, in \u001b[0;36mMFCC.forward\u001b[1;34m(self, waveform)\u001b[0m\n\u001b[0;32m    691\u001b[0m \u001b[38;5;28;01mdef\u001b[39;00m \u001b[38;5;21mforward\u001b[39m(\u001b[38;5;28mself\u001b[39m, waveform: Tensor) \u001b[38;5;241m-\u001b[39m\u001b[38;5;241m>\u001b[39m Tensor:\n\u001b[0;32m    692\u001b[0m \u001b[38;5;250m    \u001b[39m\u001b[38;5;124mr\u001b[39m\u001b[38;5;124;03m\"\"\"\u001b[39;00m\n\u001b[0;32m    693\u001b[0m \u001b[38;5;124;03m    Args:\u001b[39;00m\n\u001b[0;32m    694\u001b[0m \u001b[38;5;124;03m        waveform (Tensor): Tensor of audio of dimension (..., time).\u001b[39;00m\n\u001b[1;32m   (...)\u001b[0m\n\u001b[0;32m    697\u001b[0m \u001b[38;5;124;03m        Tensor: specgram_mel_db of size (..., ``n_mfcc``, time).\u001b[39;00m\n\u001b[0;32m    698\u001b[0m \u001b[38;5;124;03m    \"\"\"\u001b[39;00m\n\u001b[1;32m--> 699\u001b[0m     mel_specgram \u001b[38;5;241m=\u001b[39m \u001b[38;5;28;43mself\u001b[39;49m\u001b[38;5;241;43m.\u001b[39;49m\u001b[43mMelSpectrogram\u001b[49m\u001b[43m(\u001b[49m\u001b[43mwaveform\u001b[49m\u001b[43m)\u001b[49m\n\u001b[0;32m    700\u001b[0m     \u001b[38;5;28;01mif\u001b[39;00m \u001b[38;5;28mself\u001b[39m\u001b[38;5;241m.\u001b[39mlog_mels:\n\u001b[0;32m    701\u001b[0m         log_offset \u001b[38;5;241m=\u001b[39m \u001b[38;5;241m1e-6\u001b[39m\n",
      "File \u001b[1;32mc:\\Users\\sebas\\Desktop\\DL_señales\\.venv\\lib\\site-packages\\torch\\nn\\modules\\module.py:1553\u001b[0m, in \u001b[0;36mModule._wrapped_call_impl\u001b[1;34m(self, *args, **kwargs)\u001b[0m\n\u001b[0;32m   1551\u001b[0m     \u001b[38;5;28;01mreturn\u001b[39;00m \u001b[38;5;28mself\u001b[39m\u001b[38;5;241m.\u001b[39m_compiled_call_impl(\u001b[38;5;241m*\u001b[39margs, \u001b[38;5;241m*\u001b[39m\u001b[38;5;241m*\u001b[39mkwargs)  \u001b[38;5;66;03m# type: ignore[misc]\u001b[39;00m\n\u001b[0;32m   1552\u001b[0m \u001b[38;5;28;01melse\u001b[39;00m:\n\u001b[1;32m-> 1553\u001b[0m     \u001b[38;5;28;01mreturn\u001b[39;00m \u001b[38;5;28mself\u001b[39m\u001b[38;5;241m.\u001b[39m_call_impl(\u001b[38;5;241m*\u001b[39margs, \u001b[38;5;241m*\u001b[39m\u001b[38;5;241m*\u001b[39mkwargs)\n",
      "File \u001b[1;32mc:\\Users\\sebas\\Desktop\\DL_señales\\.venv\\lib\\site-packages\\torch\\nn\\modules\\module.py:1562\u001b[0m, in \u001b[0;36mModule._call_impl\u001b[1;34m(self, *args, **kwargs)\u001b[0m\n\u001b[0;32m   1557\u001b[0m \u001b[38;5;66;03m# If we don't have any hooks, we want to skip the rest of the logic in\u001b[39;00m\n\u001b[0;32m   1558\u001b[0m \u001b[38;5;66;03m# this function, and just call forward.\u001b[39;00m\n\u001b[0;32m   1559\u001b[0m \u001b[38;5;28;01mif\u001b[39;00m \u001b[38;5;129;01mnot\u001b[39;00m (\u001b[38;5;28mself\u001b[39m\u001b[38;5;241m.\u001b[39m_backward_hooks \u001b[38;5;129;01mor\u001b[39;00m \u001b[38;5;28mself\u001b[39m\u001b[38;5;241m.\u001b[39m_backward_pre_hooks \u001b[38;5;129;01mor\u001b[39;00m \u001b[38;5;28mself\u001b[39m\u001b[38;5;241m.\u001b[39m_forward_hooks \u001b[38;5;129;01mor\u001b[39;00m \u001b[38;5;28mself\u001b[39m\u001b[38;5;241m.\u001b[39m_forward_pre_hooks\n\u001b[0;32m   1560\u001b[0m         \u001b[38;5;129;01mor\u001b[39;00m _global_backward_pre_hooks \u001b[38;5;129;01mor\u001b[39;00m _global_backward_hooks\n\u001b[0;32m   1561\u001b[0m         \u001b[38;5;129;01mor\u001b[39;00m _global_forward_hooks \u001b[38;5;129;01mor\u001b[39;00m _global_forward_pre_hooks):\n\u001b[1;32m-> 1562\u001b[0m     \u001b[38;5;28;01mreturn\u001b[39;00m forward_call(\u001b[38;5;241m*\u001b[39margs, \u001b[38;5;241m*\u001b[39m\u001b[38;5;241m*\u001b[39mkwargs)\n\u001b[0;32m   1564\u001b[0m \u001b[38;5;28;01mtry\u001b[39;00m:\n\u001b[0;32m   1565\u001b[0m     result \u001b[38;5;241m=\u001b[39m \u001b[38;5;28;01mNone\u001b[39;00m\n",
      "File \u001b[1;32mc:\\Users\\sebas\\Desktop\\DL_señales\\.venv\\lib\\site-packages\\torchaudio\\transforms\\_transforms.py:619\u001b[0m, in \u001b[0;36mMelSpectrogram.forward\u001b[1;34m(self, waveform)\u001b[0m\n\u001b[0;32m    611\u001b[0m \u001b[38;5;28;01mdef\u001b[39;00m \u001b[38;5;21mforward\u001b[39m(\u001b[38;5;28mself\u001b[39m, waveform: Tensor) \u001b[38;5;241m-\u001b[39m\u001b[38;5;241m>\u001b[39m Tensor:\n\u001b[0;32m    612\u001b[0m \u001b[38;5;250m    \u001b[39m\u001b[38;5;124mr\u001b[39m\u001b[38;5;124;03m\"\"\"\u001b[39;00m\n\u001b[0;32m    613\u001b[0m \u001b[38;5;124;03m    Args:\u001b[39;00m\n\u001b[0;32m    614\u001b[0m \u001b[38;5;124;03m        waveform (Tensor): Tensor of audio of dimension (..., time).\u001b[39;00m\n\u001b[1;32m   (...)\u001b[0m\n\u001b[0;32m    617\u001b[0m \u001b[38;5;124;03m        Tensor: Mel frequency spectrogram of size (..., ``n_mels``, time).\u001b[39;00m\n\u001b[0;32m    618\u001b[0m \u001b[38;5;124;03m    \"\"\"\u001b[39;00m\n\u001b[1;32m--> 619\u001b[0m     specgram \u001b[38;5;241m=\u001b[39m \u001b[38;5;28;43mself\u001b[39;49m\u001b[38;5;241;43m.\u001b[39;49m\u001b[43mspectrogram\u001b[49m\u001b[43m(\u001b[49m\u001b[43mwaveform\u001b[49m\u001b[43m)\u001b[49m\n\u001b[0;32m    620\u001b[0m     mel_specgram \u001b[38;5;241m=\u001b[39m \u001b[38;5;28mself\u001b[39m\u001b[38;5;241m.\u001b[39mmel_scale(specgram)\n\u001b[0;32m    621\u001b[0m     \u001b[38;5;28;01mreturn\u001b[39;00m mel_specgram\n",
      "File \u001b[1;32mc:\\Users\\sebas\\Desktop\\DL_señales\\.venv\\lib\\site-packages\\torch\\nn\\modules\\module.py:1553\u001b[0m, in \u001b[0;36mModule._wrapped_call_impl\u001b[1;34m(self, *args, **kwargs)\u001b[0m\n\u001b[0;32m   1551\u001b[0m     \u001b[38;5;28;01mreturn\u001b[39;00m \u001b[38;5;28mself\u001b[39m\u001b[38;5;241m.\u001b[39m_compiled_call_impl(\u001b[38;5;241m*\u001b[39margs, \u001b[38;5;241m*\u001b[39m\u001b[38;5;241m*\u001b[39mkwargs)  \u001b[38;5;66;03m# type: ignore[misc]\u001b[39;00m\n\u001b[0;32m   1552\u001b[0m \u001b[38;5;28;01melse\u001b[39;00m:\n\u001b[1;32m-> 1553\u001b[0m     \u001b[38;5;28;01mreturn\u001b[39;00m \u001b[38;5;28mself\u001b[39m\u001b[38;5;241m.\u001b[39m_call_impl(\u001b[38;5;241m*\u001b[39margs, \u001b[38;5;241m*\u001b[39m\u001b[38;5;241m*\u001b[39mkwargs)\n",
      "File \u001b[1;32mc:\\Users\\sebas\\Desktop\\DL_señales\\.venv\\lib\\site-packages\\torch\\nn\\modules\\module.py:1562\u001b[0m, in \u001b[0;36mModule._call_impl\u001b[1;34m(self, *args, **kwargs)\u001b[0m\n\u001b[0;32m   1557\u001b[0m \u001b[38;5;66;03m# If we don't have any hooks, we want to skip the rest of the logic in\u001b[39;00m\n\u001b[0;32m   1558\u001b[0m \u001b[38;5;66;03m# this function, and just call forward.\u001b[39;00m\n\u001b[0;32m   1559\u001b[0m \u001b[38;5;28;01mif\u001b[39;00m \u001b[38;5;129;01mnot\u001b[39;00m (\u001b[38;5;28mself\u001b[39m\u001b[38;5;241m.\u001b[39m_backward_hooks \u001b[38;5;129;01mor\u001b[39;00m \u001b[38;5;28mself\u001b[39m\u001b[38;5;241m.\u001b[39m_backward_pre_hooks \u001b[38;5;129;01mor\u001b[39;00m \u001b[38;5;28mself\u001b[39m\u001b[38;5;241m.\u001b[39m_forward_hooks \u001b[38;5;129;01mor\u001b[39;00m \u001b[38;5;28mself\u001b[39m\u001b[38;5;241m.\u001b[39m_forward_pre_hooks\n\u001b[0;32m   1560\u001b[0m         \u001b[38;5;129;01mor\u001b[39;00m _global_backward_pre_hooks \u001b[38;5;129;01mor\u001b[39;00m _global_backward_hooks\n\u001b[0;32m   1561\u001b[0m         \u001b[38;5;129;01mor\u001b[39;00m _global_forward_hooks \u001b[38;5;129;01mor\u001b[39;00m _global_forward_pre_hooks):\n\u001b[1;32m-> 1562\u001b[0m     \u001b[38;5;28;01mreturn\u001b[39;00m forward_call(\u001b[38;5;241m*\u001b[39margs, \u001b[38;5;241m*\u001b[39m\u001b[38;5;241m*\u001b[39mkwargs)\n\u001b[0;32m   1564\u001b[0m \u001b[38;5;28;01mtry\u001b[39;00m:\n\u001b[0;32m   1565\u001b[0m     result \u001b[38;5;241m=\u001b[39m \u001b[38;5;28;01mNone\u001b[39;00m\n",
      "File \u001b[1;32mc:\\Users\\sebas\\Desktop\\DL_señales\\.venv\\lib\\site-packages\\torchaudio\\transforms\\_transforms.py:110\u001b[0m, in \u001b[0;36mSpectrogram.forward\u001b[1;34m(self, waveform)\u001b[0m\n\u001b[0;32m    100\u001b[0m \u001b[38;5;28;01mdef\u001b[39;00m \u001b[38;5;21mforward\u001b[39m(\u001b[38;5;28mself\u001b[39m, waveform: Tensor) \u001b[38;5;241m-\u001b[39m\u001b[38;5;241m>\u001b[39m Tensor:\n\u001b[0;32m    101\u001b[0m \u001b[38;5;250m    \u001b[39m\u001b[38;5;124mr\u001b[39m\u001b[38;5;124;03m\"\"\"\u001b[39;00m\n\u001b[0;32m    102\u001b[0m \u001b[38;5;124;03m    Args:\u001b[39;00m\n\u001b[0;32m    103\u001b[0m \u001b[38;5;124;03m        waveform (Tensor): Tensor of audio of dimension (..., time).\u001b[39;00m\n\u001b[1;32m   (...)\u001b[0m\n\u001b[0;32m    108\u001b[0m \u001b[38;5;124;03m        Fourier bins, and time is the number of window hops (n_frame).\u001b[39;00m\n\u001b[0;32m    109\u001b[0m \u001b[38;5;124;03m    \"\"\"\u001b[39;00m\n\u001b[1;32m--> 110\u001b[0m     \u001b[38;5;28;01mreturn\u001b[39;00m \u001b[43mF\u001b[49m\u001b[38;5;241;43m.\u001b[39;49m\u001b[43mspectrogram\u001b[49m\u001b[43m(\u001b[49m\n\u001b[0;32m    111\u001b[0m \u001b[43m        \u001b[49m\u001b[43mwaveform\u001b[49m\u001b[43m,\u001b[49m\n\u001b[0;32m    112\u001b[0m \u001b[43m        \u001b[49m\u001b[38;5;28;43mself\u001b[39;49m\u001b[38;5;241;43m.\u001b[39;49m\u001b[43mpad\u001b[49m\u001b[43m,\u001b[49m\n\u001b[0;32m    113\u001b[0m \u001b[43m        \u001b[49m\u001b[38;5;28;43mself\u001b[39;49m\u001b[38;5;241;43m.\u001b[39;49m\u001b[43mwindow\u001b[49m\u001b[43m,\u001b[49m\n\u001b[0;32m    114\u001b[0m \u001b[43m        \u001b[49m\u001b[38;5;28;43mself\u001b[39;49m\u001b[38;5;241;43m.\u001b[39;49m\u001b[43mn_fft\u001b[49m\u001b[43m,\u001b[49m\n\u001b[0;32m    115\u001b[0m \u001b[43m        \u001b[49m\u001b[38;5;28;43mself\u001b[39;49m\u001b[38;5;241;43m.\u001b[39;49m\u001b[43mhop_length\u001b[49m\u001b[43m,\u001b[49m\n\u001b[0;32m    116\u001b[0m \u001b[43m        \u001b[49m\u001b[38;5;28;43mself\u001b[39;49m\u001b[38;5;241;43m.\u001b[39;49m\u001b[43mwin_length\u001b[49m\u001b[43m,\u001b[49m\n\u001b[0;32m    117\u001b[0m \u001b[43m        \u001b[49m\u001b[38;5;28;43mself\u001b[39;49m\u001b[38;5;241;43m.\u001b[39;49m\u001b[43mpower\u001b[49m\u001b[43m,\u001b[49m\n\u001b[0;32m    118\u001b[0m \u001b[43m        \u001b[49m\u001b[38;5;28;43mself\u001b[39;49m\u001b[38;5;241;43m.\u001b[39;49m\u001b[43mnormalized\u001b[49m\u001b[43m,\u001b[49m\n\u001b[0;32m    119\u001b[0m \u001b[43m        \u001b[49m\u001b[38;5;28;43mself\u001b[39;49m\u001b[38;5;241;43m.\u001b[39;49m\u001b[43mcenter\u001b[49m\u001b[43m,\u001b[49m\n\u001b[0;32m    120\u001b[0m \u001b[43m        \u001b[49m\u001b[38;5;28;43mself\u001b[39;49m\u001b[38;5;241;43m.\u001b[39;49m\u001b[43mpad_mode\u001b[49m\u001b[43m,\u001b[49m\n\u001b[0;32m    121\u001b[0m \u001b[43m        \u001b[49m\u001b[38;5;28;43mself\u001b[39;49m\u001b[38;5;241;43m.\u001b[39;49m\u001b[43monesided\u001b[49m\u001b[43m,\u001b[49m\n\u001b[0;32m    122\u001b[0m \u001b[43m    \u001b[49m\u001b[43m)\u001b[49m\n",
      "File \u001b[1;32mc:\\Users\\sebas\\Desktop\\DL_señales\\.venv\\lib\\site-packages\\torchaudio\\functional\\functional.py:126\u001b[0m, in \u001b[0;36mspectrogram\u001b[1;34m(waveform, pad, window, n_fft, hop_length, win_length, power, normalized, center, pad_mode, onesided, return_complex)\u001b[0m\n\u001b[0;32m    123\u001b[0m waveform \u001b[38;5;241m=\u001b[39m waveform\u001b[38;5;241m.\u001b[39mreshape(\u001b[38;5;241m-\u001b[39m\u001b[38;5;241m1\u001b[39m, shape[\u001b[38;5;241m-\u001b[39m\u001b[38;5;241m1\u001b[39m])\n\u001b[0;32m    125\u001b[0m \u001b[38;5;66;03m# default values are consistent with librosa.core.spectrum._spectrogram\u001b[39;00m\n\u001b[1;32m--> 126\u001b[0m spec_f \u001b[38;5;241m=\u001b[39m \u001b[43mtorch\u001b[49m\u001b[38;5;241;43m.\u001b[39;49m\u001b[43mstft\u001b[49m\u001b[43m(\u001b[49m\n\u001b[0;32m    127\u001b[0m \u001b[43m    \u001b[49m\u001b[38;5;28;43minput\u001b[39;49m\u001b[38;5;241;43m=\u001b[39;49m\u001b[43mwaveform\u001b[49m\u001b[43m,\u001b[49m\n\u001b[0;32m    128\u001b[0m \u001b[43m    \u001b[49m\u001b[43mn_fft\u001b[49m\u001b[38;5;241;43m=\u001b[39;49m\u001b[43mn_fft\u001b[49m\u001b[43m,\u001b[49m\n\u001b[0;32m    129\u001b[0m \u001b[43m    \u001b[49m\u001b[43mhop_length\u001b[49m\u001b[38;5;241;43m=\u001b[39;49m\u001b[43mhop_length\u001b[49m\u001b[43m,\u001b[49m\n\u001b[0;32m    130\u001b[0m \u001b[43m    \u001b[49m\u001b[43mwin_length\u001b[49m\u001b[38;5;241;43m=\u001b[39;49m\u001b[43mwin_length\u001b[49m\u001b[43m,\u001b[49m\n\u001b[0;32m    131\u001b[0m \u001b[43m    \u001b[49m\u001b[43mwindow\u001b[49m\u001b[38;5;241;43m=\u001b[39;49m\u001b[43mwindow\u001b[49m\u001b[43m,\u001b[49m\n\u001b[0;32m    132\u001b[0m \u001b[43m    \u001b[49m\u001b[43mcenter\u001b[49m\u001b[38;5;241;43m=\u001b[39;49m\u001b[43mcenter\u001b[49m\u001b[43m,\u001b[49m\n\u001b[0;32m    133\u001b[0m \u001b[43m    \u001b[49m\u001b[43mpad_mode\u001b[49m\u001b[38;5;241;43m=\u001b[39;49m\u001b[43mpad_mode\u001b[49m\u001b[43m,\u001b[49m\n\u001b[0;32m    134\u001b[0m \u001b[43m    \u001b[49m\u001b[43mnormalized\u001b[49m\u001b[38;5;241;43m=\u001b[39;49m\u001b[43mframe_length_norm\u001b[49m\u001b[43m,\u001b[49m\n\u001b[0;32m    135\u001b[0m \u001b[43m    \u001b[49m\u001b[43monesided\u001b[49m\u001b[38;5;241;43m=\u001b[39;49m\u001b[43monesided\u001b[49m\u001b[43m,\u001b[49m\n\u001b[0;32m    136\u001b[0m \u001b[43m    \u001b[49m\u001b[43mreturn_complex\u001b[49m\u001b[38;5;241;43m=\u001b[39;49m\u001b[38;5;28;43;01mTrue\u001b[39;49;00m\u001b[43m,\u001b[49m\n\u001b[0;32m    137\u001b[0m \u001b[43m\u001b[49m\u001b[43m)\u001b[49m\n\u001b[0;32m    139\u001b[0m \u001b[38;5;66;03m# unpack batch\u001b[39;00m\n\u001b[0;32m    140\u001b[0m spec_f \u001b[38;5;241m=\u001b[39m spec_f\u001b[38;5;241m.\u001b[39mreshape(shape[:\u001b[38;5;241m-\u001b[39m\u001b[38;5;241m1\u001b[39m] \u001b[38;5;241m+\u001b[39m spec_f\u001b[38;5;241m.\u001b[39mshape[\u001b[38;5;241m-\u001b[39m\u001b[38;5;241m2\u001b[39m:])\n",
      "File \u001b[1;32mc:\\Users\\sebas\\Desktop\\DL_señales\\.venv\\lib\\site-packages\\torch\\functional.py:666\u001b[0m, in \u001b[0;36mstft\u001b[1;34m(input, n_fft, hop_length, win_length, window, center, pad_mode, normalized, onesided, return_complex)\u001b[0m\n\u001b[0;32m    664\u001b[0m     \u001b[38;5;28minput\u001b[39m \u001b[38;5;241m=\u001b[39m F\u001b[38;5;241m.\u001b[39mpad(\u001b[38;5;28minput\u001b[39m\u001b[38;5;241m.\u001b[39mview(extended_shape), [pad, pad], pad_mode)\n\u001b[0;32m    665\u001b[0m     \u001b[38;5;28minput\u001b[39m \u001b[38;5;241m=\u001b[39m \u001b[38;5;28minput\u001b[39m\u001b[38;5;241m.\u001b[39mview(\u001b[38;5;28minput\u001b[39m\u001b[38;5;241m.\u001b[39mshape[\u001b[38;5;241m-\u001b[39msignal_dim:])\n\u001b[1;32m--> 666\u001b[0m \u001b[38;5;28;01mreturn\u001b[39;00m \u001b[43m_VF\u001b[49m\u001b[38;5;241;43m.\u001b[39;49m\u001b[43mstft\u001b[49m\u001b[43m(\u001b[49m\u001b[38;5;28;43minput\u001b[39;49m\u001b[43m,\u001b[49m\u001b[43m \u001b[49m\u001b[43mn_fft\u001b[49m\u001b[43m,\u001b[49m\u001b[43m \u001b[49m\u001b[43mhop_length\u001b[49m\u001b[43m,\u001b[49m\u001b[43m \u001b[49m\u001b[43mwin_length\u001b[49m\u001b[43m,\u001b[49m\u001b[43m \u001b[49m\u001b[43mwindow\u001b[49m\u001b[43m,\u001b[49m\u001b[43m  \u001b[49m\u001b[38;5;66;43;03m# type: ignore[attr-defined]\u001b[39;49;00m\n\u001b[0;32m    667\u001b[0m \u001b[43m                \u001b[49m\u001b[43mnormalized\u001b[49m\u001b[43m,\u001b[49m\u001b[43m \u001b[49m\u001b[43monesided\u001b[49m\u001b[43m,\u001b[49m\u001b[43m \u001b[49m\u001b[43mreturn_complex\u001b[49m\u001b[43m)\u001b[49m\n",
      "\u001b[1;31mKeyboardInterrupt\u001b[0m: "
     ]
    }
   ],
   "source": [
    "e.train(epochs=100,patience=15,delta=0.01)"
   ]
  },
  {
   "cell_type": "code",
   "execution_count": 149,
   "metadata": {},
   "outputs": [],
   "source": [
    "class CremaDDataset(torch.utils.data.Dataset):\n",
    "    def __init__(self, dir, preprocessing=None):\n",
    "        assert dir in [\"train\",\"validation\",\"test\"], \"Conjunto invalido\"\n",
    "        self.dir = dir\n",
    "        self.df = (pd.read_csv(os.path.join(DATA_FOLDER, 'labels.csv'))[lambda x: x['partition'] == f\"{self.dir}\"])\n",
    "        self.preprocessing = preprocessing \n",
    "        \n",
    "    def __getitem__(self,idx):\n",
    "        signal_path = os.path.join(DATA_FOLDER,self.df.iloc[idx][\"path\"])\n",
    "        waveform,_ = librosa.load(signal_path,sr=SAMPLERATE)\n",
    "        label =  self.df.iloc[idx][\"class\"]\n",
    "        if self.preprocessing is not None:\n",
    "            not_padded_features = self.preprocessing.transform(waveform,pad=False)\n",
    "            features = self.preprocessing.transform(waveform,pad=False)\n",
    "        else: \n",
    "            features = waveform\n",
    "        \n",
    "        return features,label, not_padded_features.size(0)\n",
    "    \n",
    "    def __len__(self):\n",
    "        return len(self.df)"
   ]
  },
  {
   "cell_type": "code",
   "execution_count": null,
   "metadata": {},
   "outputs": [],
   "source": [
    "Preprocessing()"
   ]
  },
  {
   "cell_type": "code",
   "execution_count": 169,
   "metadata": {},
   "outputs": [],
   "source": [
    "p = Preprocessing(1024, 512, 80, 1024, 13, 16000)\n",
    "dataset = CremaDDataset(dir=\"train\",preprocessing=p)"
   ]
  },
  {
   "cell_type": "code",
   "execution_count": 183,
   "metadata": {},
   "outputs": [
    {
     "data": {
      "text/plain": [
       "torch.Size([73, 95])"
      ]
     },
     "execution_count": 183,
     "metadata": {},
     "output_type": "execute_result"
    }
   ],
   "source": [
    "dataset[1][0].shape"
   ]
  },
  {
   "cell_type": "code",
   "execution_count": 171,
   "metadata": {},
   "outputs": [
    {
     "data": {
      "text/plain": [
       "torch.Size([72, 95])"
      ]
     },
     "execution_count": 171,
     "metadata": {},
     "output_type": "execute_result"
    }
   ],
   "source": [
    "dataset[0][0].shape"
   ]
  },
  {
   "cell_type": "code",
   "execution_count": 153,
   "metadata": {},
   "outputs": [
    {
     "data": {
      "text/plain": [
       "tensor([ 1.7275e+02,  5.1598e+01,  6.7448e+00,  9.6503e+00,  5.3459e-02,\n",
       "        -4.8620e+00, -6.9618e+00, -4.5945e+00,  5.7278e-01, -4.7953e+00,\n",
       "         6.2424e-01, -2.5734e+00, -4.1335e+00,  4.2589e+01,  5.1275e+01,\n",
       "         5.1676e+01,  5.1204e+01,  4.7190e+01,  4.7402e+01,  4.2758e+01,\n",
       "         3.8275e+01,  3.5446e+01,  3.3144e+01,  3.2585e+01,  3.1697e+01,\n",
       "         3.2831e+01,  3.3283e+01,  3.1971e+01,  3.0179e+01,  3.0982e+01,\n",
       "         2.9656e+01,  2.4433e+01,  2.3466e+01,  2.5974e+01,  2.6819e+01,\n",
       "         2.4193e+01,  1.9088e+01,  1.8364e+01,  1.8604e+01,  1.9598e+01,\n",
       "         1.9428e+01,  1.0297e-01,  4.0158e-02])"
      ]
     },
     "execution_count": 153,
     "metadata": {},
     "output_type": "execute_result"
    }
   ],
   "source": [
    "dataset[0][0].mean(axis=0)"
   ]
  },
  {
   "cell_type": "code",
   "execution_count": 172,
   "metadata": {},
   "outputs": [],
   "source": [
    "data_list = []\n",
    "for data, _,_ in dataset:\n",
    "    data_list.append(data)"
   ]
  },
  {
   "cell_type": "code",
   "execution_count": 173,
   "metadata": {},
   "outputs": [],
   "source": [
    "all_data = torch.cat(data_list,axis=0)"
   ]
  },
  {
   "cell_type": "code",
   "execution_count": 204,
   "metadata": {},
   "outputs": [],
   "source": [
    "df=pd.DataFrame(torch.stack((all_data.mean(axis=0),all_data.max(axis=0).values,all_data.min(axis=0).values),dim=1),columns=[\"mean\",\"max\",\"min\"])"
   ]
  },
  {
   "cell_type": "code",
   "execution_count": 201,
   "metadata": {},
   "outputs": [
    {
     "data": {
      "text/plain": [
       "torch.Size([3, 95])"
      ]
     },
     "execution_count": 201,
     "metadata": {},
     "output_type": "execute_result"
    }
   ],
   "source": [
    "torch.stack((all_data.mean(axis=0),all_data.max(axis=0).values,all_data.min(axis=0).values)).size()"
   ]
  },
  {
   "cell_type": "code",
   "execution_count": 206,
   "metadata": {},
   "outputs": [],
   "source": [
    "df.to_csv(\"normalize_settings.csv\",index=False)"
   ]
  },
  {
   "cell_type": "code",
   "execution_count": 191,
   "metadata": {},
   "outputs": [
    {
     "data": {
      "text/plain": [
       "torch.return_types.min(\n",
       "values=tensor([-894.4276,  -55.7438, -113.8385,  -75.3315,  -99.1638,  -78.7169,\n",
       "         -56.1997,  -56.7935,  -49.5748,  -44.9584,  -44.4550,  -43.6490,\n",
       "         -50.6528, -100.0000, -100.0000, -100.0000, -100.0000, -100.0000,\n",
       "        -100.0000, -100.0000, -100.0000, -100.0000, -100.0000, -100.0000,\n",
       "        -100.0000, -100.0000, -100.0000, -100.0000, -100.0000, -100.0000,\n",
       "        -100.0000, -100.0000, -100.0000, -100.0000, -100.0000, -100.0000,\n",
       "        -100.0000, -100.0000, -100.0000, -100.0000, -100.0000, -100.0000,\n",
       "        -100.0000, -100.0000, -100.0000, -100.0000, -100.0000, -100.0000,\n",
       "        -100.0000, -100.0000, -100.0000, -100.0000, -100.0000, -100.0000,\n",
       "        -100.0000, -100.0000, -100.0000, -100.0000, -100.0000, -100.0000,\n",
       "        -100.0000, -100.0000, -100.0000, -100.0000, -100.0000, -100.0000,\n",
       "        -100.0000, -100.0000, -100.0000, -100.0000, -100.0000, -100.0000,\n",
       "        -100.0000, -100.0000, -100.0000, -100.0000, -100.0000, -100.0000,\n",
       "        -100.0000, -100.0000, -100.0000, -100.0000, -100.0000, -100.0000,\n",
       "        -100.0000, -100.0000, -100.0000, -100.0000, -100.0000, -100.0000,\n",
       "        -100.0000, -100.0000, -100.0000,    0.0000,    0.0000]),\n",
       "indices=tensor([330629, 338434,  97112,  86903,  98652, 195916, 397306, 408096, 164351,\n",
       "          4548,  44713, 345856, 241701, 330629, 330629, 330629, 330629, 330629,\n",
       "        330629, 330629, 330629, 330629, 330629, 330629, 330629, 330629, 330629,\n",
       "        330629, 330629, 330629, 330629, 330629, 330629, 330629, 330629, 330629,\n",
       "        330629, 330629, 330629, 330629, 330629, 330629, 330629, 330629, 330629,\n",
       "        330629, 330629, 330629, 330629, 330629, 330629, 330629, 330629, 330629,\n",
       "        330629, 330629, 330629, 330629, 330629, 330629, 330629, 330629, 330629,\n",
       "        330629, 330629, 330629, 330629, 330629, 330629, 330629, 330629, 330629,\n",
       "        330629, 330629, 330629, 330629, 330629, 330629, 330629, 330629, 330629,\n",
       "        330629, 330629, 330629, 330629, 330629, 330629, 330629, 330629, 330629,\n",
       "        330629, 330629, 330629,  95673,  95673]))"
      ]
     },
     "execution_count": 191,
     "metadata": {},
     "output_type": "execute_result"
    }
   ],
   "source": [
    "all_data.min(axis=0)"
   ]
  },
  {
   "cell_type": "code",
   "execution_count": 168,
   "metadata": {},
   "outputs": [
    {
     "data": {
      "text/plain": [
       "tensor([ 1.5161e+02,  5.5702e+01,  1.6992e+01,  7.9374e+00, -1.5296e+00,\n",
       "        -3.5864e+00, -2.3894e+00, -3.3335e+00, -1.0723e+00, -1.2326e+00,\n",
       "        -1.8064e+00, -1.8941e+00, -2.2266e+00,  4.5196e+01,  4.8149e+01,\n",
       "         5.1462e+01,  4.8563e+01,  4.4906e+01,  4.2941e+01,  4.0617e+01,\n",
       "         3.6462e+01,  3.2788e+01,  2.9897e+01,  2.8430e+01,  2.6866e+01,\n",
       "         2.5775e+01,  2.4867e+01,  2.3688e+01,  2.2778e+01,  2.2355e+01,\n",
       "         2.1983e+01,  2.1536e+01,  2.1101e+01,  2.0484e+01,  1.9266e+01,\n",
       "         1.8209e+01,  1.7052e+01,  1.6726e+01,  1.6639e+01,  1.6961e+01,\n",
       "         1.6561e+01,  8.3830e-02,  2.5818e-02])"
      ]
     },
     "execution_count": 168,
     "metadata": {},
     "output_type": "execute_result"
    }
   ],
   "source": [
    "all_data.mean(axis=0)"
   ]
  },
  {
   "cell_type": "code",
   "execution_count": 161,
   "metadata": {},
   "outputs": [
    {
     "data": {
      "text/plain": [
       "tensor([[-3.5713e+00,  3.0809e+00,  2.0625e+00,  ..., -1.1424e+00,\n",
       "          6.9531e-02,  2.4716e-04],\n",
       "        [ 3.6652e+01,  4.6975e+01,  2.1131e+01,  ..., -1.1424e+00,\n",
       "          7.4219e-02,  1.8791e-03],\n",
       "        [ 7.5639e+01,  6.1286e+01,  1.7373e+01,  ...,  5.4507e-01,\n",
       "          8.2813e-02,  2.6667e-03],\n",
       "        ...,\n",
       "        [ 1.0189e+02,  5.8366e+01,  1.5495e+01,  ...,  5.6396e+00,\n",
       "          5.0000e-02,  3.2709e-03],\n",
       "        [ 1.0042e+02,  5.9176e+01,  1.6650e+01,  ...,  4.6802e+00,\n",
       "          4.2969e-02,  2.8083e-03],\n",
       "        [ 9.5690e+01,  6.0225e+01,  1.6567e+01,  ...,  3.5623e+00,\n",
       "          2.8906e-02,  2.5060e-03]])"
      ]
     },
     "execution_count": 161,
     "metadata": {},
     "output_type": "execute_result"
    }
   ],
   "source": [
    "tdata_list[0]"
   ]
  },
  {
   "cell_type": "code",
   "execution_count": 230,
   "metadata": {},
   "outputs": [],
   "source": [
    "class CremaDDataset(torch.utils.data.Dataset):\n",
    "    def __init__(self, dir, preprocessing=None):\n",
    "        assert dir in [\"train\",\"validation\",\"test\"], \"Conjunto invalido\"\n",
    "        self.dir = dir\n",
    "        self.df = (pd.read_csv(os.path.join(DATA_FOLDER, 'labels.csv'))[lambda x: x['partition'] == f\"{self.dir}\"])\n",
    "        self.preprocessing = preprocessing \n",
    "        \n",
    "    def __getitem__(self,idx):\n",
    "        signal_path = os.path.join(DATA_FOLDER,self.df.iloc[idx][\"path\"])\n",
    "        waveform,_ = librosa.load(signal_path,sr=SAMPLERATE)\n",
    "        label =  self.df.iloc[idx][\"class\"]\n",
    "        if self.preprocessing is not None:\n",
    "            not_padded_features = self.preprocessing.transform(waveform,pad=False)\n",
    "            features = self.preprocessing.transform(waveform)\n",
    "        else: \n",
    "            features = waveform\n",
    "        \n",
    "        return features,label, not_padded_features.size(0)\n",
    "    \n",
    "    def __len__(self):\n",
    "        return len(self.df)"
   ]
  },
  {
   "cell_type": "code",
   "execution_count": 239,
   "metadata": {},
   "outputs": [],
   "source": [
    "class Preprocessing:\n",
    "    \"\"\"\n",
    "    Salen (n_windows,n_MFCC)\n",
    "    \"\"\"\n",
    "    def __init__(self, frame_size, hop, n_mels, n_fft, n_mfcc, samplerate):\n",
    "        self.samplerate=samplerate\n",
    "        self.frame_size = frame_size\n",
    "        self.hop = hop\n",
    "        self.n_mels = n_mels\n",
    "        self.n_fft = n_fft\n",
    "        \n",
    "        self.melspec = get_mel_spectrogram(frame_size,\n",
    "                                            hop,\n",
    "                                            n_mels,\n",
    "                                            n_fft,\n",
    "                                            samplerate,\n",
    "                                            window_type=\"hamming\")\n",
    "\n",
    "        self.mfcc = get_MFCC(frame_size, \n",
    "                     hop, \n",
    "                     n_mels, \n",
    "                     n_fft,\n",
    "                     n_mfcc, \n",
    "                     samplerate)\n",
    "        \n",
    "        df = pd.read_csv(\"normalize_settings.csv\")\n",
    "\n",
    "        self.mean = torch.Tensor(df[\"mean\"])\n",
    "        self.min = torch.Tensor(df[\"min\"])\n",
    "        self.max = torch.Tensor(df[\"max\"])\n",
    "    \n",
    "    def transform(self,waveform,pad=True):\n",
    "        signal = torch.Tensor(waveform)\n",
    "        mfcc = self.mfcc(signal).T\n",
    "        logmelspec = torch.Tensor(librosa.power_to_db(self.melspec(signal))).T\n",
    "        zfc = torch.Tensor(librosa.feature.zero_crossing_rate(y=waveform,frame_length=self.frame_size, hop_length=self.hop)).T\n",
    "        rms = torch.Tensor(librosa.feature.rms(y=waveform,frame_length=self.frame_size, hop_length=self.hop)).T\n",
    "        features = torch.cat((mfcc,logmelspec,zfc,rms),dim=1)\n",
    "        features = (features-self.mean)/(self.max-self.min)\n",
    "\n",
    "        # Padding (no se procesa)\n",
    "        if pad:\n",
    "            zeros = torch.zeros(500-features.size()[0],features.size()[1])\n",
    "                   \n",
    "            features = torch.cat((features,zeros),dim = 0)  \n",
    "        return features\n",
    "    "
   ]
  },
  {
   "cell_type": "code",
   "execution_count": 240,
   "metadata": {},
   "outputs": [],
   "source": [
    "p = Preprocessing(1024, 512, 80, 1024, 13, 16000)\n",
    "dataset = CremaDDataset(dir=\"train\",preprocessing=p)"
   ]
  },
  {
   "cell_type": "code",
   "execution_count": 241,
   "metadata": {},
   "outputs": [],
   "source": [
    "waveform,_ = librosa.load(r\"CREMA-D\\train\\0.wav\",sr=SAMPLERATE)"
   ]
  },
  {
   "cell_type": "code",
   "execution_count": 242,
   "metadata": {},
   "outputs": [
    {
     "data": {
      "text/plain": [
       "tensor([[-0.1559, -0.4004, -0.1312,  ..., -0.0800, -0.0446, -0.0359],\n",
       "        [-0.0874,  0.0169,  0.0047,  ..., -0.0760,  0.0149, -0.0319],\n",
       "        [-0.0567,  0.0358,  0.0155,  ..., -0.0578, -0.0165, -0.0310],\n",
       "        ...,\n",
       "        [ 0.0000,  0.0000,  0.0000,  ...,  0.0000,  0.0000,  0.0000],\n",
       "        [ 0.0000,  0.0000,  0.0000,  ...,  0.0000,  0.0000,  0.0000],\n",
       "        [ 0.0000,  0.0000,  0.0000,  ...,  0.0000,  0.0000,  0.0000]])"
      ]
     },
     "execution_count": 242,
     "metadata": {},
     "output_type": "execute_result"
    }
   ],
   "source": [
    "p.transform(waveform)"
   ]
  },
  {
   "cell_type": "code",
   "execution_count": 229,
   "metadata": {},
   "outputs": [
    {
     "data": {
      "text/plain": [
       "tensor([[-0.1559, -0.4004, -0.1312,  ..., -0.0800, -0.0446, -0.0359],\n",
       "        [-0.0874,  0.0169,  0.0047,  ..., -0.0760,  0.0149, -0.0319],\n",
       "        [-0.0567,  0.0358,  0.0155,  ..., -0.0578, -0.0165, -0.0310],\n",
       "        ...,\n",
       "        [-0.1450, -0.4004, -0.1312,  ..., -0.0695, -0.0963, -0.0359],\n",
       "        [-0.1450, -0.4004, -0.1312,  ..., -0.0695, -0.0963, -0.0359],\n",
       "        [-0.1450, -0.4004, -0.1312,  ..., -0.0695, -0.0963, -0.0359]])"
      ]
     },
     "execution_count": 229,
     "metadata": {},
     "output_type": "execute_result"
    }
   ],
   "source": [
    "(p.transform(waveform)-torch.Tensor(df[\"mean\"]))/(torch.Tensor(df[\"max\"])-torch.Tensor(df[\"min\"]))"
   ]
  }
 ],
 "metadata": {
  "kernelspec": {
   "display_name": ".venv",
   "language": "python",
   "name": "python3"
  },
  "language_info": {
   "codemirror_mode": {
    "name": "ipython",
    "version": 3
   },
   "file_extension": ".py",
   "mimetype": "text/x-python",
   "name": "python",
   "nbconvert_exporter": "python",
   "pygments_lexer": "ipython3",
   "version": "3.10.11"
  }
 },
 "nbformat": 4,
 "nbformat_minor": 2
}
